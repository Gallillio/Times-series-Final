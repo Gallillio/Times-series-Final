{
 "cells": [
  {
   "cell_type": "code",
   "execution_count": 4,
   "id": "a6ca87a7",
   "metadata": {},
   "outputs": [],
   "source": [
    "import pandas as pd\n",
    "import numpy as np\n",
    "from sklearn.model_selection import train_test_split\n",
    "from sklearn import metrics\n",
    "from sklearn.metrics import mean_squared_error, mean_absolute_error, r2_score\n",
    "from sklearn.linear_model import LinearRegression\n",
    "from statsmodels.tsa.statespace.sarimax import SARIMAX\n",
    "from pmdarima.arima import auto_arima\n",
    "from statsmodels.tsa.arima.model import ARIMA\n",
    "from sklearn.preprocessing import StandardScaler, MinMaxScaler\n",
    "from statsmodels.tsa.api import VAR\n",
    "from sklearn.svm import SVR\n",
    "import matplotlib.pyplot as plt\n",
    "import tensorflow as tf\n",
    "from tensorflow.keras.models import Sequential\n",
    "from tensorflow.keras.layers import LSTM, Dense\n",
    "from tensorflow.keras.callbacks import EarlyStopping\n",
    "from tensorflow.keras import *\n",
    "from tensorflow.keras.models import *\n",
    "from tensorflow.keras.layers import *\n",
    "from tcn import TCN"
   ]
  },
  {
   "cell_type": "code",
   "execution_count": 6,
   "id": "936651b3",
   "metadata": {},
   "outputs": [],
   "source": [
    "def create_dataset(X, y, time_steps=1):\n",
    "    Xs, ys = [], []\n",
    "    for i in range(len(X) - time_steps):\n",
    "        v = X.iloc[i:(i + time_steps)].values\n",
    "        Xs.append(v)        \n",
    "        ys.append(y.iloc[i + time_steps])\n",
    "    return np.array(Xs), np.array(ys)"
   ]
  },
  {
   "cell_type": "code",
   "execution_count": 36,
   "id": "ce1c331e",
   "metadata": {},
   "outputs": [],
   "source": [
    "def timeseries_evaluation_metrics_func(y_true, y_pred):\n",
    "    def mean_absolute_percentage_error(y_true, y_pred): \n",
    "        y_true, y_pred = np.array(y_true), np.array(y_pred)\n",
    "        return np.mean(np.abs((y_true - y_pred) / y_true)) * 100\n",
    "    print('Evaluation metric results:-')\n",
    "    print(f'MSE is : {mean_squared_error(y_true, y_pred)}')\n",
    "    print(f'MAE is : {mean_absolute_error(y_true, y_pred)}')\n",
    "    print(f'RMSE is : {np.sqrt(mean_squared_error(y_true, y_pred))}')\n",
    "    print(f'MAPE is : {mean_absolute_percentage_error(y_true, y_pred)}')\n",
    "    print(f'R2 is : {r2_score(y_true, y_pred)}',end='\\n\\n')"
   ]
  },
  {
   "cell_type": "code",
   "execution_count": 8,
   "id": "ffbf1b21",
   "metadata": {},
   "outputs": [],
   "source": [
    "data = pd.read_csv(\"Microsoft Dataset.csv\")"
   ]
  },
  {
   "cell_type": "code",
   "execution_count": 9,
   "id": "bc068f3a",
   "metadata": {},
   "outputs": [
    {
     "data": {
      "text/html": [
       "<div>\n",
       "<style scoped>\n",
       "    .dataframe tbody tr th:only-of-type {\n",
       "        vertical-align: middle;\n",
       "    }\n",
       "\n",
       "    .dataframe tbody tr th {\n",
       "        vertical-align: top;\n",
       "    }\n",
       "\n",
       "    .dataframe thead th {\n",
       "        text-align: right;\n",
       "    }\n",
       "</style>\n",
       "<table border=\"1\" class=\"dataframe\">\n",
       "  <thead>\n",
       "    <tr style=\"text-align: right;\">\n",
       "      <th></th>\n",
       "      <th>Date</th>\n",
       "      <th>Open</th>\n",
       "      <th>High</th>\n",
       "      <th>Low</th>\n",
       "      <th>Close</th>\n",
       "      <th>Adj Close</th>\n",
       "      <th>Volume</th>\n",
       "    </tr>\n",
       "  </thead>\n",
       "  <tbody>\n",
       "    <tr>\n",
       "      <th>0</th>\n",
       "      <td>1986-03-13</td>\n",
       "      <td>0.088542</td>\n",
       "      <td>0.101563</td>\n",
       "      <td>0.088542</td>\n",
       "      <td>0.097222</td>\n",
       "      <td>0.060055</td>\n",
       "      <td>1031788800</td>\n",
       "    </tr>\n",
       "    <tr>\n",
       "      <th>1</th>\n",
       "      <td>1986-03-14</td>\n",
       "      <td>0.097222</td>\n",
       "      <td>0.102431</td>\n",
       "      <td>0.097222</td>\n",
       "      <td>0.100694</td>\n",
       "      <td>0.062199</td>\n",
       "      <td>308160000</td>\n",
       "    </tr>\n",
       "    <tr>\n",
       "      <th>2</th>\n",
       "      <td>1986-03-17</td>\n",
       "      <td>0.100694</td>\n",
       "      <td>0.103299</td>\n",
       "      <td>0.100694</td>\n",
       "      <td>0.102431</td>\n",
       "      <td>0.063272</td>\n",
       "      <td>133171200</td>\n",
       "    </tr>\n",
       "    <tr>\n",
       "      <th>3</th>\n",
       "      <td>1986-03-18</td>\n",
       "      <td>0.102431</td>\n",
       "      <td>0.103299</td>\n",
       "      <td>0.098958</td>\n",
       "      <td>0.099826</td>\n",
       "      <td>0.061663</td>\n",
       "      <td>67766400</td>\n",
       "    </tr>\n",
       "    <tr>\n",
       "      <th>4</th>\n",
       "      <td>1986-03-19</td>\n",
       "      <td>0.099826</td>\n",
       "      <td>0.100694</td>\n",
       "      <td>0.097222</td>\n",
       "      <td>0.098090</td>\n",
       "      <td>0.060591</td>\n",
       "      <td>47894400</td>\n",
       "    </tr>\n",
       "    <tr>\n",
       "      <th>...</th>\n",
       "      <td>...</td>\n",
       "      <td>...</td>\n",
       "      <td>...</td>\n",
       "      <td>...</td>\n",
       "      <td>...</td>\n",
       "      <td>...</td>\n",
       "      <td>...</td>\n",
       "    </tr>\n",
       "    <tr>\n",
       "      <th>9627</th>\n",
       "      <td>2024-05-24</td>\n",
       "      <td>427.190002</td>\n",
       "      <td>431.059998</td>\n",
       "      <td>424.410004</td>\n",
       "      <td>430.160004</td>\n",
       "      <td>430.160004</td>\n",
       "      <td>11845800</td>\n",
       "    </tr>\n",
       "    <tr>\n",
       "      <th>9628</th>\n",
       "      <td>2024-05-28</td>\n",
       "      <td>429.630005</td>\n",
       "      <td>430.820007</td>\n",
       "      <td>426.600006</td>\n",
       "      <td>430.320007</td>\n",
       "      <td>430.320007</td>\n",
       "      <td>15718000</td>\n",
       "    </tr>\n",
       "    <tr>\n",
       "      <th>9629</th>\n",
       "      <td>2024-05-29</td>\n",
       "      <td>425.690002</td>\n",
       "      <td>430.940002</td>\n",
       "      <td>425.690002</td>\n",
       "      <td>429.170013</td>\n",
       "      <td>429.170013</td>\n",
       "      <td>15517100</td>\n",
       "    </tr>\n",
       "    <tr>\n",
       "      <th>9630</th>\n",
       "      <td>2024-05-30</td>\n",
       "      <td>424.299988</td>\n",
       "      <td>424.299988</td>\n",
       "      <td>414.239990</td>\n",
       "      <td>414.670013</td>\n",
       "      <td>414.670013</td>\n",
       "      <td>28394500</td>\n",
       "    </tr>\n",
       "    <tr>\n",
       "      <th>9631</th>\n",
       "      <td>2024-05-31</td>\n",
       "      <td>416.410004</td>\n",
       "      <td>416.630005</td>\n",
       "      <td>404.519989</td>\n",
       "      <td>406.760010</td>\n",
       "      <td>406.760010</td>\n",
       "      <td>17190518</td>\n",
       "    </tr>\n",
       "  </tbody>\n",
       "</table>\n",
       "<p>9632 rows × 7 columns</p>\n",
       "</div>"
      ],
      "text/plain": [
       "            Date        Open        High         Low       Close   Adj Close  \\\n",
       "0     1986-03-13    0.088542    0.101563    0.088542    0.097222    0.060055   \n",
       "1     1986-03-14    0.097222    0.102431    0.097222    0.100694    0.062199   \n",
       "2     1986-03-17    0.100694    0.103299    0.100694    0.102431    0.063272   \n",
       "3     1986-03-18    0.102431    0.103299    0.098958    0.099826    0.061663   \n",
       "4     1986-03-19    0.099826    0.100694    0.097222    0.098090    0.060591   \n",
       "...          ...         ...         ...         ...         ...         ...   \n",
       "9627  2024-05-24  427.190002  431.059998  424.410004  430.160004  430.160004   \n",
       "9628  2024-05-28  429.630005  430.820007  426.600006  430.320007  430.320007   \n",
       "9629  2024-05-29  425.690002  430.940002  425.690002  429.170013  429.170013   \n",
       "9630  2024-05-30  424.299988  424.299988  414.239990  414.670013  414.670013   \n",
       "9631  2024-05-31  416.410004  416.630005  404.519989  406.760010  406.760010   \n",
       "\n",
       "          Volume  \n",
       "0     1031788800  \n",
       "1      308160000  \n",
       "2      133171200  \n",
       "3       67766400  \n",
       "4       47894400  \n",
       "...          ...  \n",
       "9627    11845800  \n",
       "9628    15718000  \n",
       "9629    15517100  \n",
       "9630    28394500  \n",
       "9631    17190518  \n",
       "\n",
       "[9632 rows x 7 columns]"
      ]
     },
     "execution_count": 9,
     "metadata": {},
     "output_type": "execute_result"
    }
   ],
   "source": [
    "data"
   ]
  },
  {
   "cell_type": "code",
   "execution_count": 10,
   "id": "03209b35",
   "metadata": {},
   "outputs": [],
   "source": [
    "# Convert the 'Date' column to datetime\n",
    "data['Date'] = pd.to_datetime(data['Date'])\n",
    "\n",
    "# Set the 'Date' column as the index\n",
    "data.set_index('Date', inplace=True)"
   ]
  },
  {
   "cell_type": "code",
   "execution_count": 11,
   "id": "2b8b881f",
   "metadata": {},
   "outputs": [],
   "source": [
    "# Split the data into features (X) and target variable (y)\n",
    "X = data.drop(columns=['Close', 'Adj Close'])  # Excluding 'Close' and 'Adj Close' columns as features\n",
    "y = data['Close']\n"
   ]
  },
  {
   "cell_type": "code",
   "execution_count": 12,
   "id": "8713a5ef",
   "metadata": {},
   "outputs": [],
   "source": [
    "# Train-test split\n",
    "X_train, X_test, y_train, y_test = train_test_split(X, y, test_size=0.2, shuffle=False)  "
   ]
  },
  {
   "cell_type": "markdown",
   "id": "d5a82a11",
   "metadata": {},
   "source": [
    "## Traditional Models\n"
   ]
  },
  {
   "cell_type": "markdown",
   "id": "c69743c5",
   "metadata": {},
   "source": [
    "#### Linear regression"
   ]
  },
  {
   "cell_type": "code",
   "execution_count": 13,
   "id": "9c8e5945",
   "metadata": {},
   "outputs": [
    {
     "data": {
      "text/html": [
       "<style>#sk-container-id-1 {color: black;}#sk-container-id-1 pre{padding: 0;}#sk-container-id-1 div.sk-toggleable {background-color: white;}#sk-container-id-1 label.sk-toggleable__label {cursor: pointer;display: block;width: 100%;margin-bottom: 0;padding: 0.3em;box-sizing: border-box;text-align: center;}#sk-container-id-1 label.sk-toggleable__label-arrow:before {content: \"▸\";float: left;margin-right: 0.25em;color: #696969;}#sk-container-id-1 label.sk-toggleable__label-arrow:hover:before {color: black;}#sk-container-id-1 div.sk-estimator:hover label.sk-toggleable__label-arrow:before {color: black;}#sk-container-id-1 div.sk-toggleable__content {max-height: 0;max-width: 0;overflow: hidden;text-align: left;background-color: #f0f8ff;}#sk-container-id-1 div.sk-toggleable__content pre {margin: 0.2em;color: black;border-radius: 0.25em;background-color: #f0f8ff;}#sk-container-id-1 input.sk-toggleable__control:checked~div.sk-toggleable__content {max-height: 200px;max-width: 100%;overflow: auto;}#sk-container-id-1 input.sk-toggleable__control:checked~label.sk-toggleable__label-arrow:before {content: \"▾\";}#sk-container-id-1 div.sk-estimator input.sk-toggleable__control:checked~label.sk-toggleable__label {background-color: #d4ebff;}#sk-container-id-1 div.sk-label input.sk-toggleable__control:checked~label.sk-toggleable__label {background-color: #d4ebff;}#sk-container-id-1 input.sk-hidden--visually {border: 0;clip: rect(1px 1px 1px 1px);clip: rect(1px, 1px, 1px, 1px);height: 1px;margin: -1px;overflow: hidden;padding: 0;position: absolute;width: 1px;}#sk-container-id-1 div.sk-estimator {font-family: monospace;background-color: #f0f8ff;border: 1px dotted black;border-radius: 0.25em;box-sizing: border-box;margin-bottom: 0.5em;}#sk-container-id-1 div.sk-estimator:hover {background-color: #d4ebff;}#sk-container-id-1 div.sk-parallel-item::after {content: \"\";width: 100%;border-bottom: 1px solid gray;flex-grow: 1;}#sk-container-id-1 div.sk-label:hover label.sk-toggleable__label {background-color: #d4ebff;}#sk-container-id-1 div.sk-serial::before {content: \"\";position: absolute;border-left: 1px solid gray;box-sizing: border-box;top: 0;bottom: 0;left: 50%;z-index: 0;}#sk-container-id-1 div.sk-serial {display: flex;flex-direction: column;align-items: center;background-color: white;padding-right: 0.2em;padding-left: 0.2em;position: relative;}#sk-container-id-1 div.sk-item {position: relative;z-index: 1;}#sk-container-id-1 div.sk-parallel {display: flex;align-items: stretch;justify-content: center;background-color: white;position: relative;}#sk-container-id-1 div.sk-item::before, #sk-container-id-1 div.sk-parallel-item::before {content: \"\";position: absolute;border-left: 1px solid gray;box-sizing: border-box;top: 0;bottom: 0;left: 50%;z-index: -1;}#sk-container-id-1 div.sk-parallel-item {display: flex;flex-direction: column;z-index: 1;position: relative;background-color: white;}#sk-container-id-1 div.sk-parallel-item:first-child::after {align-self: flex-end;width: 50%;}#sk-container-id-1 div.sk-parallel-item:last-child::after {align-self: flex-start;width: 50%;}#sk-container-id-1 div.sk-parallel-item:only-child::after {width: 0;}#sk-container-id-1 div.sk-dashed-wrapped {border: 1px dashed gray;margin: 0 0.4em 0.5em 0.4em;box-sizing: border-box;padding-bottom: 0.4em;background-color: white;}#sk-container-id-1 div.sk-label label {font-family: monospace;font-weight: bold;display: inline-block;line-height: 1.2em;}#sk-container-id-1 div.sk-label-container {text-align: center;}#sk-container-id-1 div.sk-container {/* jupyter's `normalize.less` sets `[hidden] { display: none; }` but bootstrap.min.css set `[hidden] { display: none !important; }` so we also need the `!important` here to be able to override the default hidden behavior on the sphinx rendered scikit-learn.org. See: https://github.com/scikit-learn/scikit-learn/issues/21755 */display: inline-block !important;position: relative;}#sk-container-id-1 div.sk-text-repr-fallback {display: none;}</style><div id=\"sk-container-id-1\" class=\"sk-top-container\"><div class=\"sk-text-repr-fallback\"><pre>LinearRegression()</pre><b>In a Jupyter environment, please rerun this cell to show the HTML representation or trust the notebook. <br />On GitHub, the HTML representation is unable to render, please try loading this page with nbviewer.org.</b></div><div class=\"sk-container\" hidden><div class=\"sk-item\"><div class=\"sk-estimator sk-toggleable\"><input class=\"sk-toggleable__control sk-hidden--visually\" id=\"sk-estimator-id-1\" type=\"checkbox\" checked><label for=\"sk-estimator-id-1\" class=\"sk-toggleable__label sk-toggleable__label-arrow\">LinearRegression</label><div class=\"sk-toggleable__content\"><pre>LinearRegression()</pre></div></div></div></div></div>"
      ],
      "text/plain": [
       "LinearRegression()"
      ]
     },
     "execution_count": 13,
     "metadata": {},
     "output_type": "execute_result"
    }
   ],
   "source": [
    "# Train the Linear Regression model\n",
    "lr_model = LinearRegression()\n",
    "lr_model.fit(X_train, y_train)"
   ]
  },
  {
   "cell_type": "code",
   "execution_count": 14,
   "id": "a4194649",
   "metadata": {},
   "outputs": [],
   "source": [
    "# Predict on the test set\n",
    "y_pred = lr_model.predict(X_test)"
   ]
  },
  {
   "cell_type": "code",
   "execution_count": 15,
   "id": "d6e0ce74",
   "metadata": {},
   "outputs": [
    {
     "data": {
      "text/plain": [
       "(array([ 57.30494769,  57.81025324,  57.4810412 , ..., 429.94345067,\n",
       "        416.35962787, 407.18235325]),\n",
       " Date\n",
       " 2016-10-04     57.240002\n",
       " 2016-10-05     57.639999\n",
       " 2016-10-06     57.740002\n",
       " 2016-10-07     57.799999\n",
       " 2016-10-10     58.040001\n",
       "                  ...    \n",
       " 2024-05-24    430.160004\n",
       " 2024-05-28    430.320007\n",
       " 2024-05-29    429.170013\n",
       " 2024-05-30    414.670013\n",
       " 2024-05-31    406.760010\n",
       " Name: Close, Length: 1927, dtype: float64)"
      ]
     },
     "execution_count": 15,
     "metadata": {},
     "output_type": "execute_result"
    }
   ],
   "source": [
    "y_pred, y_test\n"
   ]
  },
  {
   "cell_type": "code",
   "execution_count": 16,
   "id": "18b84551",
   "metadata": {},
   "outputs": [
    {
     "name": "stdout",
     "output_type": "stream",
     "text": [
      "Mean Squared Error (MSE): 1.8057188662580752\n",
      "Mean Absolute Error (MAE): 0.8935531399643343\n",
      "Root Mean Squared Error (RMSE): 1.3437703919413\n",
      "Mean Absolute Percentage Error (MAPE): 0.43529552143768985\n"
     ]
    }
   ],
   "source": [
    "# Evaluate the model\n",
    "mse = mean_squared_error(y_test, y_pred)\n",
    "mae = mean_absolute_error(y_test, y_pred)\n",
    "rmse = np.sqrt(mse)\n",
    "mape = mean_absolute_percentage_error(y_test, y_pred)\n",
    "\n",
    "print(\"Mean Squared Error (MSE):\", mse)\n",
    "print(\"Mean Absolute Error (MAE):\", mae)\n",
    "print(\"Root Mean Squared Error (RMSE):\", rmse)\n",
    "print(\"Mean Absolute Percentage Error (MAPE):\", mape)"
   ]
  },
  {
   "cell_type": "code",
   "execution_count": 22,
   "id": "21e6f50c",
   "metadata": {},
   "outputs": [
    {
     "data": {
      "image/png": "[encoded data removed]",
      "text/plain": [
       "<Figure size 1400x700 with 1 Axes>"
      ]
     },
     "metadata": {},
     "output_type": "display_data"
    }
   ],
   "source": [
    "# Plot the results\n",
    "plt.figure(figsize=(14, 7))\n",
    "\n",
    "# Plot true vs predicted values\n",
    "plt.subplot(2, 1, 1)\n",
    "plt.plot(train_data.index, train_data, label='Training Data')\n",
    "plt.plot(test_data.index, y_test, label='Test Data')\n",
    "plt.plot(test_data.index, y_pred, label='Predicted Data')\n",
    "plt.legend()\n",
    "plt.title('Linear Regression Model Predictions')\n",
    "plt.xlabel('Date')\n",
    "plt.ylabel('Close Price')\n",
    "\n",
    "plt.tight_layout()\n",
    "plt.show()"
   ]
  },
  {
   "cell_type": "markdown",
   "id": "9b945457",
   "metadata": {},
   "source": [
    "#### Arima"
   ]
  },
  {
   "cell_type": "code",
   "execution_count": 18,
   "id": "c46885da",
   "metadata": {},
   "outputs": [],
   "source": [
    "# Step 3: Train-test split\n",
    "train_size = int(len(data) * 0.8)\n",
    "train_data, test_data = data.iloc[:train_size], data.iloc[train_size:]"
   ]
  },
  {
   "cell_type": "code",
   "execution_count": 19,
   "id": "596b9e54",
   "metadata": {},
   "outputs": [],
   "source": [
    "train_data = train_data.drop(columns = [\"Open\", \"High\", \"Low\", \"Adj Close\", \"Volume\"], axis = 1)\n",
    "test_data = test_data.drop(columns = [\"Open\", \"High\", \"Low\", \"Adj Close\", \"Volume\"], axis = 1)"
   ]
  },
  {
   "cell_type": "code",
   "execution_count": 20,
   "id": "f1dd21c4",
   "metadata": {},
   "outputs": [],
   "source": [
    "scaler = MinMaxScaler()\n",
    "train_scaled = scaler.fit_transform(train_data)\n",
    "test_scaled = scaler.transform(test_data)"
   ]
  },
  {
   "cell_type": "code",
   "execution_count": 21,
   "id": "1c5903a1",
   "metadata": {},
   "outputs": [
    {
     "data": {
      "text/plain": [
       "array([[1.16760393e-04],\n",
       "       [1.75140589e-04],\n",
       "       [2.04347502e-04],\n",
       "       ...,\n",
       "       [9.63638520e-01],\n",
       "       [9.67001367e-01],\n",
       "       [9.63974744e-01]])"
      ]
     },
     "execution_count": 21,
     "metadata": {},
     "output_type": "execute_result"
    }
   ],
   "source": [
    "train_scaled"
   ]
  },
  {
   "cell_type": "code",
   "execution_count": 34,
   "id": "c9a3f8e3",
   "metadata": {},
   "outputs": [
    {
     "name": "stdout",
     "output_type": "stream",
     "text": [
      "Performing stepwise search to minimize aic\n",
      " ARIMA(2,1,2)(0,0,0)[0] intercept   : AIC=-51156.422, Time=6.84 sec\n",
      " ARIMA(0,1,0)(0,0,0)[0] intercept   : AIC=-51160.823, Time=2.33 sec\n",
      " ARIMA(1,1,0)(0,0,0)[0] intercept   : AIC=-51162.965, Time=2.16 sec\n",
      " ARIMA(0,1,1)(0,0,0)[0] intercept   : AIC=-51162.910, Time=1.50 sec\n",
      " ARIMA(0,1,0)(0,0,0)[0]             : AIC=-51161.246, Time=0.62 sec\n",
      " ARIMA(2,1,0)(0,0,0)[0] intercept   : AIC=-51161.361, Time=3.18 sec\n",
      " ARIMA(1,1,1)(0,0,0)[0] intercept   : AIC=-51159.383, Time=2.81 sec\n",
      " ARIMA(2,1,1)(0,0,0)[0] intercept   : AIC=-51154.821, Time=2.56 sec\n",
      " ARIMA(1,1,0)(0,0,0)[0]             : AIC=-51163.313, Time=0.38 sec\n",
      " ARIMA(2,1,0)(0,0,0)[0]             : AIC=-51161.733, Time=1.22 sec\n",
      " ARIMA(1,1,1)(0,0,0)[0]             : AIC=-51159.693, Time=0.71 sec\n",
      " ARIMA(0,1,1)(0,0,0)[0]             : AIC=-51163.257, Time=0.64 sec\n",
      " ARIMA(2,1,1)(0,0,0)[0]             : AIC=-51155.243, Time=1.94 sec\n",
      "\n",
      "Best model:  ARIMA(1,1,0)(0,0,0)[0]          \n",
      "Total fit time: 26.949 seconds\n"
     ]
    },
    {
     "name": "stderr",
     "output_type": "stream",
     "text": [
      "C:\\ProgramData\\anaconda3\\Lib\\site-packages\\statsmodels\\tsa\\statespace\\sarimax.py:1899: RuntimeWarning: divide by zero encountered in reciprocal\n",
      "  return np.roots(self.polynomial_reduced_ar)**-1\n",
      "C:\\ProgramData\\anaconda3\\Lib\\site-packages\\statsmodels\\tsa\\statespace\\sarimax.py:1906: RuntimeWarning: divide by zero encountered in reciprocal\n",
      "  return np.roots(self.polynomial_reduced_ma)**-1\n"
     ]
    }
   ],
   "source": [
    "# Use auto_arima to find the best ARIMA model\n",
    "arima_model = auto_arima(train_scaled, seasonal=False, trace=True,\n",
    "                         error_action='ignore', suppress_warnings=True,\n",
    "                         stepwise=True)\n"
   ]
  },
  {
   "cell_type": "code",
   "execution_count": 35,
   "id": "24e99f66",
   "metadata": {},
   "outputs": [],
   "source": [
    "forecast_period = len(test_scaled)\n",
    "y_pred_arima = arima_model.predict(n_periods=forecast_period)\n",
    "y_pred_arima = scaler.inverse_transform(y_pred_arima.reshape(-1, 1))"
   ]
  },
  {
   "cell_type": "code",
   "execution_count": 36,
   "id": "8e2a5472",
   "metadata": {},
   "outputs": [
    {
     "name": "stdout",
     "output_type": "stream",
     "text": [
      "Mean Squared Error (MSE): 31340.253875343686\n",
      "Mean Absolute Error (MAE): 143.58315533239312\n",
      "Root Mean Squared Error (RMSE): 177.03178775390504\n",
      "Mean Absolute Percentage Error (MAPE): 60.430280726549 %\n"
     ]
    }
   ],
   "source": [
    "# Evaluate the model\n",
    "mse = mean_squared_error(test_data.values, y_pred_arima)\n",
    "mae = mean_absolute_error(test_data.values, y_pred_arima)\n",
    "rmse = np.sqrt(mse)\n",
    "mape = mean_absolute_percentage_error(test_data.values, y_pred_arima)\n",
    "\n",
    "print(\"Mean Squared Error (MSE):\", mse)\n",
    "print(\"Mean Absolute Error (MAE):\", mae)\n",
    "print(\"Root Mean Squared Error (RMSE):\", rmse)\n",
    "print(\"Mean Absolute Percentage Error (MAPE):\", mape,\"%\")"
   ]
  },
  {
   "cell_type": "code",
   "execution_count": 37,
   "id": "b359a9a1",
   "metadata": {},
   "outputs": [
    {
     "data": {
      "image/png": "[encoded data removed]",
      "text/plain": [
       "<Figure size 1400x700 with 1 Axes>"
      ]
     },
     "metadata": {},
     "output_type": "display_data"
    }
   ],
   "source": [
    "\n",
    "# Plot the results\n",
    "plt.figure(figsize=(14, 7))\n",
    "\n",
    "# Plot true vs predicted values\n",
    "plt.subplot(2, 1, 1)\n",
    "plt.plot(train_data.index, train_data, label='Training Data')\n",
    "plt.plot(test_data.index, test_data, label='Test Data')\n",
    "plt.plot(test_data.index, y_pred_arima, label='Predicted Data')\n",
    "plt.legend()\n",
    "plt.title('ARIMA Model Predictions')\n",
    "plt.xlabel('Date')\n",
    "plt.ylabel('Close Price')\n",
    "\n",
    "plt.tight_layout()\n",
    "plt.show()"
   ]
  },
  {
   "cell_type": "markdown",
   "id": "8ea8091c",
   "metadata": {},
   "source": [
    "#### Sarima"
   ]
  },
  {
   "cell_type": "code",
   "execution_count": 418,
   "id": "2b6b4225",
   "metadata": {},
   "outputs": [],
   "source": [
    "sarima_model = SARIMAX(train_scaled, order=(1,1,0), seasonal_order=(1, 1, 1, 12))\n",
    "sarima_fit = sarima_model.fit()"
   ]
  },
  {
   "cell_type": "code",
   "execution_count": 425,
   "id": "055c235e",
   "metadata": {},
   "outputs": [],
   "source": [
    "# Forecasting\n",
    "n_forecast = len(test_data)\n",
    "y_pred_sarima = arima_model.predict(n_periods=forecast_period)\n",
    "y_pred_sarima = scaler.inverse_transform(y_pred_sarima.reshape(-1, 1))"
   ]
  },
  {
   "cell_type": "code",
   "execution_count": 429,
   "id": "d2ecb6ac",
   "metadata": {},
   "outputs": [
    {
     "data": {
      "image/png": "[encoded data removed]",
      "text/plain": [
       "<Figure size 1400x700 with 1 Axes>"
      ]
     },
     "metadata": {},
     "output_type": "display_data"
    }
   ],
   "source": [
    "# Plot the results\n",
    "plt.figure(figsize=(14, 7))\n",
    "\n",
    "# Plot true vs predicted values\n",
    "plt.subplot(2, 1, 1)\n",
    "plt.plot(train_data.index, train_data, label='Training Data')\n",
    "plt.plot(test_data.index, test_data, label='Test Data')\n",
    "plt.plot(test_data.index, y_pred_sarima, label='Predicted Data')\n",
    "plt.legend()\n",
    "plt.title('SARIMA Model Predictions')\n",
    "plt.xlabel('Date')\n",
    "plt.ylabel('Close Price')\n",
    "\n",
    "plt.tight_layout()\n",
    "plt.show()"
   ]
  },
  {
   "cell_type": "code",
   "execution_count": 430,
   "id": "d18bd738",
   "metadata": {},
   "outputs": [
    {
     "name": "stdout",
     "output_type": "stream",
     "text": [
      "Mean Squared Error (MSE): 31340.253875343686\n",
      "Mean Absolute Error (MAE): 143.58315533239312\n",
      "Root Mean Squared Error (RMSE): 177.03178775390504\n",
      "Mean Absolute Percentage Error (MAPE): 60.430280726549 %\n"
     ]
    }
   ],
   "source": [
    "# Evaluate the model\n",
    "mse = mean_squared_error(test_data.values, y_pred_sarima)\n",
    "mae = mean_absolute_error(test_data.values, y_pred_sarima)\n",
    "rmse = np.sqrt(mse)\n",
    "mape = mean_absolute_percentage_error(test_data.values, y_pred_sarima)\n",
    "\n",
    "print(\"Mean Squared Error (MSE):\", mse)\n",
    "print(\"Mean Absolute Error (MAE):\", mae)\n",
    "print(\"Root Mean Squared Error (RMSE):\", rmse)\n",
    "print(\"Mean Absolute Percentage Error (MAPE):\", mape,\"%\")"
   ]
  },
  {
   "cell_type": "markdown",
   "id": "95693fee",
   "metadata": {},
   "source": [
    "## DeepLearning Models"
   ]
  },
  {
   "cell_type": "markdown",
   "id": "fd4de21e",
   "metadata": {},
   "source": [
    "#### LSTM"
   ]
  },
  {
   "cell_type": "code",
   "execution_count": 23,
   "id": "7f3f7fb5",
   "metadata": {},
   "outputs": [],
   "source": [
    "train_size = int(len(data) * 0.8)\n",
    "train, test = data[:train_size], data[train_size:]"
   ]
  },
  {
   "cell_type": "code",
   "execution_count": 24,
   "id": "446f860c",
   "metadata": {},
   "outputs": [
    {
     "name": "stderr",
     "output_type": "stream",
     "text": [
      "C:\\Users\\Tony\\AppData\\Local\\Temp\\ipykernel_30360\\2390795849.py:9: SettingWithCopyWarning: \n",
      "A value is trying to be set on a copy of a slice from a DataFrame.\n",
      "Try using .loc[row_indexer,col_indexer] = value instead\n",
      "\n",
      "See the caveats in the documentation: https://pandas.pydata.org/pandas-docs/stable/user_guide/indexing.html#returning-a-view-versus-a-copy\n",
      "  train['Close'] = Close_transformer.transform(train[['Close']])\n",
      "C:\\Users\\Tony\\AppData\\Local\\Temp\\ipykernel_30360\\2390795849.py:11: SettingWithCopyWarning: \n",
      "A value is trying to be set on a copy of a slice from a DataFrame.\n",
      "Try using .loc[row_indexer,col_indexer] = value instead\n",
      "\n",
      "See the caveats in the documentation: https://pandas.pydata.org/pandas-docs/stable/user_guide/indexing.html#returning-a-view-versus-a-copy\n",
      "  test['Close'] = Close_transformer.transform(test[['Close']])\n"
     ]
    }
   ],
   "source": [
    "features = ['Open', 'High', 'Low', 'Volume']\n",
    "features_transformer = MinMaxScaler()\n",
    "Close_transformer = MinMaxScaler()\n",
    "\n",
    "features_transformer = features_transformer.fit(train[features].to_numpy())\n",
    "Close_transformer = Close_transformer.fit(train[['Close']])\n",
    "\n",
    "train.loc[:, features] = features_transformer.transform(train[features].to_numpy())\n",
    "train['Close'] = Close_transformer.transform(train[['Close']])\n",
    "test.loc[:, features] = features_transformer.transform(test[features].to_numpy())\n",
    "test['Close'] = Close_transformer.transform(test[['Close']])"
   ]
  },
  {
   "cell_type": "code",
   "execution_count": 25,
   "id": "0928ff31",
   "metadata": {},
   "outputs": [
    {
     "name": "stdout",
     "output_type": "stream",
     "text": [
      "X_train: (7681, 24, 6) Y_train: (7681,)\n",
      "X_test: (1903, 24, 6) Y_test: (1903,)\n"
     ]
    }
   ],
   "source": [
    "time_steps = 24\n",
    "# reshape to [samples, time_steps, n_features]\n",
    "\n",
    "X_train, y_train = create_dataset(train, train.Close, time_steps)\n",
    "X_test, y_test = create_dataset(test, test.Close, time_steps)\n",
    "\n",
    "print('X_train:', X_train.shape, 'Y_train:', y_train.shape)\n",
    "print('X_test:', X_test.shape, 'Y_test:', y_test.shape)"
   ]
  },
  {
   "cell_type": "code",
   "execution_count": 26,
   "id": "4ec26bec",
   "metadata": {},
   "outputs": [
    {
     "name": "stderr",
     "output_type": "stream",
     "text": [
      "C:\\ProgramData\\anaconda3\\Lib\\site-packages\\keras\\src\\layers\\rnn\\rnn.py:204: UserWarning: Do not pass an `input_shape`/`input_dim` argument to a layer. When using Sequential models, prefer using an `Input(shape)` object as the first layer in the model instead.\n",
      "  super().__init__(**kwargs)\n"
     ]
    },
    {
     "data": {
      "text/html": [
       "<pre style=\"white-space:pre;overflow-x:auto;line-height:normal;font-family:Menlo,'DejaVu Sans Mono',consolas,'Courier New',monospace\"><span style=\"font-weight: bold\">Model: \"sequential_1\"</span>\n",
       "</pre>\n"
      ],
      "text/plain": [
       "\u001b[1mModel: \"sequential_1\"\u001b[0m\n"
      ]
     },
     "metadata": {},
     "output_type": "display_data"
    },
    {
     "data": {
      "text/html": [
       "<pre style=\"white-space:pre;overflow-x:auto;line-height:normal;font-family:Menlo,'DejaVu Sans Mono',consolas,'Courier New',monospace\">┏━━━━━━━━━━━━━━━━━━━━━━━━━━━━━━━━━━━━━━┳━━━━━━━━━━━━━━━━━━━━━━━━━━━━━┳━━━━━━━━━━━━━━━━━┓\n",
       "┃<span style=\"font-weight: bold\"> Layer (type)                         </span>┃<span style=\"font-weight: bold\"> Output Shape                </span>┃<span style=\"font-weight: bold\">         Param # </span>┃\n",
       "┡━━━━━━━━━━━━━━━━━━━━━━━━━━━━━━━━━━━━━━╇━━━━━━━━━━━━━━━━━━━━━━━━━━━━━╇━━━━━━━━━━━━━━━━━┩\n",
       "│ lstm (<span style=\"color: #0087ff; text-decoration-color: #0087ff\">LSTM</span>)                          │ (<span style=\"color: #00d7ff; text-decoration-color: #00d7ff\">None</span>, <span style=\"color: #00af00; text-decoration-color: #00af00\">24</span>, <span style=\"color: #00af00; text-decoration-color: #00af00\">128</span>)             │          <span style=\"color: #00af00; text-decoration-color: #00af00\">69,120</span> │\n",
       "├──────────────────────────────────────┼─────────────────────────────┼─────────────────┤\n",
       "│ dropout (<span style=\"color: #0087ff; text-decoration-color: #0087ff\">Dropout</span>)                    │ (<span style=\"color: #00d7ff; text-decoration-color: #00d7ff\">None</span>, <span style=\"color: #00af00; text-decoration-color: #00af00\">24</span>, <span style=\"color: #00af00; text-decoration-color: #00af00\">128</span>)             │               <span style=\"color: #00af00; text-decoration-color: #00af00\">0</span> │\n",
       "├──────────────────────────────────────┼─────────────────────────────┼─────────────────┤\n",
       "│ lstm_1 (<span style=\"color: #0087ff; text-decoration-color: #0087ff\">LSTM</span>)                        │ (<span style=\"color: #00d7ff; text-decoration-color: #00d7ff\">None</span>, <span style=\"color: #00af00; text-decoration-color: #00af00\">24</span>, <span style=\"color: #00af00; text-decoration-color: #00af00\">128</span>)             │         <span style=\"color: #00af00; text-decoration-color: #00af00\">131,584</span> │\n",
       "├──────────────────────────────────────┼─────────────────────────────┼─────────────────┤\n",
       "│ dropout_1 (<span style=\"color: #0087ff; text-decoration-color: #0087ff\">Dropout</span>)                  │ (<span style=\"color: #00d7ff; text-decoration-color: #00d7ff\">None</span>, <span style=\"color: #00af00; text-decoration-color: #00af00\">24</span>, <span style=\"color: #00af00; text-decoration-color: #00af00\">128</span>)             │               <span style=\"color: #00af00; text-decoration-color: #00af00\">0</span> │\n",
       "├──────────────────────────────────────┼─────────────────────────────┼─────────────────┤\n",
       "│ lstm_2 (<span style=\"color: #0087ff; text-decoration-color: #0087ff\">LSTM</span>)                        │ (<span style=\"color: #00d7ff; text-decoration-color: #00d7ff\">None</span>, <span style=\"color: #00af00; text-decoration-color: #00af00\">128</span>)                 │         <span style=\"color: #00af00; text-decoration-color: #00af00\">131,584</span> │\n",
       "├──────────────────────────────────────┼─────────────────────────────┼─────────────────┤\n",
       "│ dropout_2 (<span style=\"color: #0087ff; text-decoration-color: #0087ff\">Dropout</span>)                  │ (<span style=\"color: #00d7ff; text-decoration-color: #00d7ff\">None</span>, <span style=\"color: #00af00; text-decoration-color: #00af00\">128</span>)                 │               <span style=\"color: #00af00; text-decoration-color: #00af00\">0</span> │\n",
       "├──────────────────────────────────────┼─────────────────────────────┼─────────────────┤\n",
       "│ dense_1 (<span style=\"color: #0087ff; text-decoration-color: #0087ff\">Dense</span>)                      │ (<span style=\"color: #00d7ff; text-decoration-color: #00d7ff\">None</span>, <span style=\"color: #00af00; text-decoration-color: #00af00\">1</span>)                   │             <span style=\"color: #00af00; text-decoration-color: #00af00\">129</span> │\n",
       "└──────────────────────────────────────┴─────────────────────────────┴─────────────────┘\n",
       "</pre>\n"
      ],
      "text/plain": [
       "┏━━━━━━━━━━━━━━━━━━━━━━━━━━━━━━━━━━━━━━┳━━━━━━━━━━━━━━━━━━━━━━━━━━━━━┳━━━━━━━━━━━━━━━━━┓\n",
       "┃\u001b[1m \u001b[0m\u001b[1mLayer (type)                        \u001b[0m\u001b[1m \u001b[0m┃\u001b[1m \u001b[0m\u001b[1mOutput Shape               \u001b[0m\u001b[1m \u001b[0m┃\u001b[1m \u001b[0m\u001b[1m        Param #\u001b[0m\u001b[1m \u001b[0m┃\n",
       "┡━━━━━━━━━━━━━━━━━━━━━━━━━━━━━━━━━━━━━━╇━━━━━━━━━━━━━━━━━━━━━━━━━━━━━╇━━━━━━━━━━━━━━━━━┩\n",
       "│ lstm (\u001b[38;5;33mLSTM\u001b[0m)                          │ (\u001b[38;5;45mNone\u001b[0m, \u001b[38;5;34m24\u001b[0m, \u001b[38;5;34m128\u001b[0m)             │          \u001b[38;5;34m69,120\u001b[0m │\n",
       "├──────────────────────────────────────┼─────────────────────────────┼─────────────────┤\n",
       "│ dropout (\u001b[38;5;33mDropout\u001b[0m)                    │ (\u001b[38;5;45mNone\u001b[0m, \u001b[38;5;34m24\u001b[0m, \u001b[38;5;34m128\u001b[0m)             │               \u001b[38;5;34m0\u001b[0m │\n",
       "├──────────────────────────────────────┼─────────────────────────────┼─────────────────┤\n",
       "│ lstm_1 (\u001b[38;5;33mLSTM\u001b[0m)                        │ (\u001b[38;5;45mNone\u001b[0m, \u001b[38;5;34m24\u001b[0m, \u001b[38;5;34m128\u001b[0m)             │         \u001b[38;5;34m131,584\u001b[0m │\n",
       "├──────────────────────────────────────┼─────────────────────────────┼─────────────────┤\n",
       "│ dropout_1 (\u001b[38;5;33mDropout\u001b[0m)                  │ (\u001b[38;5;45mNone\u001b[0m, \u001b[38;5;34m24\u001b[0m, \u001b[38;5;34m128\u001b[0m)             │               \u001b[38;5;34m0\u001b[0m │\n",
       "├──────────────────────────────────────┼─────────────────────────────┼─────────────────┤\n",
       "│ lstm_2 (\u001b[38;5;33mLSTM\u001b[0m)                        │ (\u001b[38;5;45mNone\u001b[0m, \u001b[38;5;34m128\u001b[0m)                 │         \u001b[38;5;34m131,584\u001b[0m │\n",
       "├──────────────────────────────────────┼─────────────────────────────┼─────────────────┤\n",
       "│ dropout_2 (\u001b[38;5;33mDropout\u001b[0m)                  │ (\u001b[38;5;45mNone\u001b[0m, \u001b[38;5;34m128\u001b[0m)                 │               \u001b[38;5;34m0\u001b[0m │\n",
       "├──────────────────────────────────────┼─────────────────────────────┼─────────────────┤\n",
       "│ dense_1 (\u001b[38;5;33mDense\u001b[0m)                      │ (\u001b[38;5;45mNone\u001b[0m, \u001b[38;5;34m1\u001b[0m)                   │             \u001b[38;5;34m129\u001b[0m │\n",
       "└──────────────────────────────────────┴─────────────────────────────┴─────────────────┘\n"
      ]
     },
     "metadata": {},
     "output_type": "display_data"
    },
    {
     "data": {
      "text/html": [
       "<pre style=\"white-space:pre;overflow-x:auto;line-height:normal;font-family:Menlo,'DejaVu Sans Mono',consolas,'Courier New',monospace\"><span style=\"font-weight: bold\"> Total params: </span><span style=\"color: #00af00; text-decoration-color: #00af00\">332,417</span> (1.27 MB)\n",
       "</pre>\n"
      ],
      "text/plain": [
       "\u001b[1m Total params: \u001b[0m\u001b[38;5;34m332,417\u001b[0m (1.27 MB)\n"
      ]
     },
     "metadata": {},
     "output_type": "display_data"
    },
    {
     "data": {
      "text/html": [
       "<pre style=\"white-space:pre;overflow-x:auto;line-height:normal;font-family:Menlo,'DejaVu Sans Mono',consolas,'Courier New',monospace\"><span style=\"font-weight: bold\"> Trainable params: </span><span style=\"color: #00af00; text-decoration-color: #00af00\">332,417</span> (1.27 MB)\n",
       "</pre>\n"
      ],
      "text/plain": [
       "\u001b[1m Trainable params: \u001b[0m\u001b[38;5;34m332,417\u001b[0m (1.27 MB)\n"
      ]
     },
     "metadata": {},
     "output_type": "display_data"
    },
    {
     "data": {
      "text/html": [
       "<pre style=\"white-space:pre;overflow-x:auto;line-height:normal;font-family:Menlo,'DejaVu Sans Mono',consolas,'Courier New',monospace\"><span style=\"font-weight: bold\"> Non-trainable params: </span><span style=\"color: #00af00; text-decoration-color: #00af00\">0</span> (0.00 B)\n",
       "</pre>\n"
      ],
      "text/plain": [
       "\u001b[1m Non-trainable params: \u001b[0m\u001b[38;5;34m0\u001b[0m (0.00 B)\n"
      ]
     },
     "metadata": {},
     "output_type": "display_data"
    }
   ],
   "source": [
    "#Setting the return_sequences=True makes each cell per timestep emit a signal.\n",
    "model_LSTM = tf.keras.models.Sequential([\n",
    "tf.keras.layers.LSTM(128, activation ='relu',input_shape=X_train.shape[-2:],return_sequences=True),\n",
    "tf.keras.layers.Dropout(0.2),\n",
    "tf.keras.layers.LSTM(128, activation ='relu',return_sequences=True),\n",
    "tf.keras.layers.Dropout(0.2),\n",
    "tf.keras.layers.LSTM(units=128,activation ='relu'),\n",
    "tf.keras.layers.Dropout(0.2),\n",
    "tf.keras.layers.Dense(units=1),])\n",
    "model_LSTM.summary()\n",
    "\n",
    "model_LSTM.compile(optimizer= 'adam', loss='mse')"
   ]
  },
  {
   "cell_type": "code",
   "execution_count": 27,
   "id": "8058a9ea",
   "metadata": {},
   "outputs": [],
   "source": [
    "es = EarlyStopping(patience=20, verbose=1, min_delta=0.001, monitor='val_loss', mode='auto', restore_best_weights=True)"
   ]
  },
  {
   "cell_type": "code",
   "execution_count": null,
   "id": "31e08d84",
   "metadata": {},
   "outputs": [
    {
     "name": "stdout",
     "output_type": "stream",
     "text": [
      "Epoch 1/50\n",
      "121/121 [==============================] - 19s 96ms/step - loss: 0.0119 - val_loss: 54.5068\n",
      "Epoch 2/50\n",
      "121/121 [==============================] - 11s 90ms/step - loss: 0.0033 - val_loss: 15.1163\n",
      "Epoch 3/50\n",
      "121/121 [==============================] - 11s 90ms/step - loss: 0.0027 - val_loss: 0.0492\n",
      "Epoch 4/50\n",
      "121/121 [==============================] - 10s 86ms/step - loss: 0.0024 - val_loss: 0.8785\n",
      "Epoch 5/50\n",
      "121/121 [==============================] - 10s 86ms/step - loss: 0.0023 - val_loss: 0.1664\n",
      "Epoch 6/50\n",
      "121/121 [==============================] - 10s 86ms/step - loss: 0.0021 - val_loss: 0.5373\n",
      "Epoch 7/50\n",
      "121/121 [==============================] - 10s 86ms/step - loss: 0.0020 - val_loss: 2.2659\n",
      "Epoch 8/50\n",
      "121/121 [==============================] - 11s 87ms/step - loss: 0.0020 - val_loss: 2.7619\n",
      "Epoch 9/50\n",
      "121/121 [==============================] - 11s 87ms/step - loss: 0.0019 - val_loss: 5.1683\n",
      "Epoch 10/50\n",
      "121/121 [==============================] - 11s 87ms/step - loss: 0.0020 - val_loss: 3.9604\n",
      "Epoch 11/50\n",
      "121/121 [==============================] - 10s 87ms/step - loss: 0.0020 - val_loss: 2.3448\n",
      "Epoch 12/50\n",
      "121/121 [==============================] - 11s 88ms/step - loss: 0.0018 - val_loss: 0.4706\n",
      "Epoch 13/50\n",
      "121/121 [==============================] - 10s 87ms/step - loss: 0.0016 - val_loss: 1.9391\n",
      "Epoch 14/50\n",
      "121/121 [==============================] - 10s 86ms/step - loss: 0.0015 - val_loss: 2.2530\n",
      "Epoch 15/50\n",
      "121/121 [==============================] - 11s 88ms/step - loss: 0.0014 - val_loss: 2.1849\n",
      "Epoch 16/50\n",
      "121/121 [==============================] - 11s 88ms/step - loss: 0.0015 - val_loss: 0.2412\n",
      "Epoch 17/50\n",
      "121/121 [==============================] - 11s 87ms/step - loss: 0.0018 - val_loss: 0.6033\n",
      "Epoch 18/50\n",
      "121/121 [==============================] - 11s 89ms/step - loss: 0.0014 - val_loss: 0.4179\n",
      "Epoch 19/50\n",
      "121/121 [==============================] - 11s 88ms/step - loss: 0.0013 - val_loss: 0.5662\n",
      "Epoch 20/50\n",
      "121/121 [==============================] - 12s 99ms/step - loss: 0.0012 - val_loss: 0.7311\n",
      "Epoch 21/50\n",
      "121/121 [==============================] - 11s 87ms/step - loss: 0.0012 - val_loss: 0.3799\n",
      "Epoch 22/50\n",
      " 99/121 [=======================>......] - ETA: 1s - loss: 0.0015"
     ]
    }
   ],
   "source": [
    "lstm_history = model_LSTM.fit(X_train, y_train, validation_data=(X_test, y_test), epochs=50,batch_size=64, verbose=1,callbacks=es)"
   ]
  },
  {
   "cell_type": "code",
   "execution_count": null,
   "id": "d4016bc5",
   "metadata": {},
   "outputs": [],
   "source": []
  },
  {
   "cell_type": "code",
   "execution_count": 582,
   "id": "2bfabf3a",
   "metadata": {},
   "outputs": [
    {
     "name": "stdout",
     "output_type": "stream",
     "text": [
      "61/61 [==============================] - 1s 4ms/step\n"
     ]
    }
   ],
   "source": [
    "y_pred_lstm = model_LSTM.predict(X_test)"
   ]
  },
  {
   "cell_type": "code",
   "execution_count": 583,
   "id": "30837b8a",
   "metadata": {},
   "outputs": [],
   "source": [
    "y_train_inv = Close_transformer.inverse_transform(y_train.reshape(1, -1))\n",
    "y_test_inv = Close_transformer.inverse_transform(y_test.reshape(1, -1))\n",
    "y_pred_inv = Close_transformer.inverse_transform(y_pred_lstm)"
   ]
  },
  {
   "cell_type": "code",
   "execution_count": 586,
   "id": "53a7c9ab",
   "metadata": {},
   "outputs": [
    {
     "name": "stdout",
     "output_type": "stream",
     "text": [
      "Evaluation metric results:-\n",
      "MSE is : 11.315084036528619\n",
      "MAE is : 2.7193663926328275\n",
      "RMSE is : 3.3637901296794097\n",
      "MAPE is : 72.96138051677369\n",
      "R2 is : -2.733479808792566\n",
      "\n"
     ]
    }
   ],
   "source": [
    "timeseries_evaluation_metrics_func(y_test , y_pred_lstm)"
   ]
  },
  {
   "cell_type": "code",
   "execution_count": null,
   "id": "0647bfea",
   "metadata": {},
   "outputs": [],
   "source": [
    "model_LSTM.save('LSTM_model_0.04.h5')"
   ]
  },
  {
   "cell_type": "markdown",
   "id": "6875d8aa",
   "metadata": {},
   "source": [
    "### GRU"
   ]
  },
  {
   "cell_type": "code",
   "execution_count": 631,
   "id": "4453c832",
   "metadata": {},
   "outputs": [
    {
     "name": "stdout",
     "output_type": "stream",
     "text": [
      "Model: \"sequential_30\"\n",
      "_________________________________________________________________\n",
      " Layer (type)                Output Shape              Param #   \n",
      "=================================================================\n",
      " gru_9 (GRU)                 (None, 24, 128)           52224     \n",
      "                                                                 \n",
      " dropout_60 (Dropout)        (None, 24, 128)           0         \n",
      "                                                                 \n",
      " gru_10 (GRU)                (None, 24, 128)           99072     \n",
      "                                                                 \n",
      " dropout_61 (Dropout)        (None, 24, 128)           0         \n",
      "                                                                 \n",
      " gru_11 (GRU)                (None, 128)               99072     \n",
      "                                                                 \n",
      " dropout_62 (Dropout)        (None, 128)               0         \n",
      "                                                                 \n",
      " dense_29 (Dense)            (None, 1)                 129       \n",
      "                                                                 \n",
      "=================================================================\n",
      "Total params: 250497 (978.50 KB)\n",
      "Trainable params: 250497 (978.50 KB)\n",
      "Non-trainable params: 0 (0.00 Byte)\n",
      "_________________________________________________________________\n"
     ]
    }
   ],
   "source": [
    "model_GRU = tf.keras.models.Sequential([\n",
    "tf.keras.layers.GRU(128, activation ='relu',input_shape=X_train.shape[-2:],return_sequences=True),\n",
    "tf.keras.layers.Dropout(0.2),\n",
    "tf.keras.layers.GRU(128, activation ='relu',return_sequences=True),\n",
    "tf.keras.layers.Dropout(0.2),\n",
    "tf.keras.layers.GRU(units=128,activation ='relu'),\n",
    "tf.keras.layers.Dropout(0.2),\n",
    "tf.keras.layers.Dense(units=1),])\n",
    "model_GRU.summary()\n",
    "\n",
    "model_GRU.compile(optimizer= 'adam', loss='mse')"
   ]
  },
  {
   "cell_type": "code",
   "execution_count": 632,
   "id": "94116177",
   "metadata": {},
   "outputs": [
    {
     "name": "stdout",
     "output_type": "stream",
     "text": [
      "Epoch 1/50\n",
      "121/121 [==============================] - 28s 177ms/step - loss: 0.0090 - val_loss: 0.2491\n",
      "Epoch 2/50\n",
      "121/121 [==============================] - 21s 171ms/step - loss: 0.0017 - val_loss: 0.8465\n",
      "Epoch 3/50\n",
      "121/121 [==============================] - 20s 166ms/step - loss: 0.0015 - val_loss: 1.3509\n",
      "Epoch 4/50\n",
      "121/121 [==============================] - 20s 167ms/step - loss: 0.0014 - val_loss: 1.5338\n",
      "Epoch 5/50\n",
      "121/121 [==============================] - 20s 168ms/step - loss: 0.0013 - val_loss: 2.1909\n",
      "Epoch 6/50\n",
      "121/121 [==============================] - 21s 170ms/step - loss: 0.0013 - val_loss: 1.9224\n",
      "Epoch 7/50\n",
      "121/121 [==============================] - 21s 170ms/step - loss: 0.0012 - val_loss: 2.0215\n",
      "Epoch 8/50\n",
      "121/121 [==============================] - 20s 167ms/step - loss: 0.0011 - val_loss: 2.1489\n",
      "Epoch 9/50\n",
      "121/121 [==============================] - 20s 167ms/step - loss: 0.0011 - val_loss: 2.1813\n",
      "Epoch 10/50\n",
      "121/121 [==============================] - 21s 170ms/step - loss: 0.0010 - val_loss: 1.5094\n",
      "Epoch 11/50\n",
      "121/121 [==============================] - 20s 168ms/step - loss: 0.0010 - val_loss: 1.8402\n",
      "Epoch 12/50\n",
      "121/121 [==============================] - 20s 165ms/step - loss: 8.9246e-04 - val_loss: 1.2820\n",
      "Epoch 13/50\n",
      "121/121 [==============================] - 20s 166ms/step - loss: 0.0010 - val_loss: 1.4135\n",
      "Epoch 14/50\n",
      "121/121 [==============================] - 20s 167ms/step - loss: 8.7186e-04 - val_loss: 1.2630\n",
      "Epoch 15/50\n",
      "121/121 [==============================] - 20s 169ms/step - loss: 8.9207e-04 - val_loss: 1.4336\n",
      "Epoch 16/50\n",
      "121/121 [==============================] - 21s 171ms/step - loss: 8.8335e-04 - val_loss: 1.0788\n",
      "Epoch 17/50\n",
      "121/121 [==============================] - 20s 166ms/step - loss: 7.9069e-04 - val_loss: 0.6727\n",
      "Epoch 18/50\n",
      "121/121 [==============================] - 20s 166ms/step - loss: 0.0010 - val_loss: 1.3352\n",
      "Epoch 19/50\n",
      "121/121 [==============================] - 20s 166ms/step - loss: 7.8892e-04 - val_loss: 0.8515\n",
      "Epoch 20/50\n",
      "121/121 [==============================] - 20s 164ms/step - loss: 0.0011 - val_loss: 1.2420\n",
      "Epoch 21/50\n",
      "120/121 [============================>.] - ETA: 0s - loss: 7.7200e-04Restoring model weights from the end of the best epoch: 1.\n",
      "121/121 [==============================] - 20s 169ms/step - loss: 7.7191e-04 - val_loss: 1.5920\n",
      "Epoch 21: early stopping\n"
     ]
    }
   ],
   "source": [
    "gru_history = model_GRU.fit(X_train, y_train, validation_data=(X_test, y_test), epochs=50,batch_size=64, verbose=1,callbacks=es)"
   ]
  },
  {
   "cell_type": "code",
   "execution_count": 633,
   "id": "6ff85ed7",
   "metadata": {},
   "outputs": [
    {
     "name": "stdout",
     "output_type": "stream",
     "text": [
      "60/60 [==============================] - 2s 29ms/step\n"
     ]
    }
   ],
   "source": [
    "y_pred_GRU = model_GRU.predict(X_test)"
   ]
  },
  {
   "cell_type": "code",
   "execution_count": 634,
   "id": "94509080",
   "metadata": {},
   "outputs": [
    {
     "name": "stdout",
     "output_type": "stream",
     "text": [
      "Evaluation metric results:-\n",
      "MSE is : 0.24910926347418455\n",
      "MAE is : 0.36119523610790455\n",
      "RMSE is : 0.4991084686460294\n",
      "MAPE is : 69.6280180674409\n",
      "R2 is : 0.9168850949929765\n",
      "\n"
     ]
    }
   ],
   "source": [
    "timeseries_evaluation_metrics_func(y_test,y_pred_GRU)"
   ]
  },
  {
   "cell_type": "code",
   "execution_count": 636,
   "id": "fb22ad45",
   "metadata": {},
   "outputs": [
    {
     "name": "stderr",
     "output_type": "stream",
     "text": [
      "C:\\Users\\Tony\\AppData\\Roaming\\Python\\Python311\\site-packages\\keras\\src\\engine\\training.py:3079: UserWarning: You are saving your model as an HDF5 file via `model.save()`. This file format is considered legacy. We recommend using instead the native Keras format, e.g. `model.save('my_model.keras')`.\n",
      "  saving_api.save_model(\n"
     ]
    }
   ],
   "source": [
    "model_GRU.save('GRU_model_0.24.h5')"
   ]
  },
  {
   "cell_type": "markdown",
   "id": "36858a57",
   "metadata": {},
   "source": [
    "### TCN"
   ]
  },
  {
   "cell_type": "code",
   "execution_count": 29,
   "id": "6278aafd",
   "metadata": {},
   "outputs": [
    {
     "data": {
      "text/html": [
       "<pre style=\"white-space:pre;overflow-x:auto;line-height:normal;font-family:Menlo,'DejaVu Sans Mono',consolas,'Courier New',monospace\"><span style=\"font-weight: bold\">Model: \"functional_3\"</span>\n",
       "</pre>\n"
      ],
      "text/plain": [
       "\u001b[1mModel: \"functional_3\"\u001b[0m\n"
      ]
     },
     "metadata": {},
     "output_type": "display_data"
    },
    {
     "data": {
      "text/html": [
       "<pre style=\"white-space:pre;overflow-x:auto;line-height:normal;font-family:Menlo,'DejaVu Sans Mono',consolas,'Courier New',monospace\">┏━━━━━━━━━━━━━━━━━━━━━━━━━━━━━━━━━━━━━━┳━━━━━━━━━━━━━━━━━━━━━━━━━━━━━┳━━━━━━━━━━━━━━━━━┓\n",
       "┃<span style=\"font-weight: bold\"> Layer (type)                         </span>┃<span style=\"font-weight: bold\"> Output Shape                </span>┃<span style=\"font-weight: bold\">         Param # </span>┃\n",
       "┡━━━━━━━━━━━━━━━━━━━━━━━━━━━━━━━━━━━━━━╇━━━━━━━━━━━━━━━━━━━━━━━━━━━━━╇━━━━━━━━━━━━━━━━━┩\n",
       "│ input_layer_3 (<span style=\"color: #0087ff; text-decoration-color: #0087ff\">InputLayer</span>)           │ (<span style=\"color: #00d7ff; text-decoration-color: #00d7ff\">None</span>, <span style=\"color: #00af00; text-decoration-color: #00af00\">24</span>, <span style=\"color: #00af00; text-decoration-color: #00af00\">6</span>)               │               <span style=\"color: #00af00; text-decoration-color: #00af00\">0</span> │\n",
       "├──────────────────────────────────────┼─────────────────────────────┼─────────────────┤\n",
       "│ tcn_2 (<span style=\"color: #0087ff; text-decoration-color: #0087ff\">TCN</span>)                          │ (<span style=\"color: #00d7ff; text-decoration-color: #00d7ff\">None</span>, <span style=\"color: #00af00; text-decoration-color: #00af00\">32</span>)                  │         <span style=\"color: #00af00; text-decoration-color: #00af00\">148,160</span> │\n",
       "├──────────────────────────────────────┼─────────────────────────────┼─────────────────┤\n",
       "│ dense_2 (<span style=\"color: #0087ff; text-decoration-color: #0087ff\">Dense</span>)                      │ (<span style=\"color: #00d7ff; text-decoration-color: #00d7ff\">None</span>, <span style=\"color: #00af00; text-decoration-color: #00af00\">1</span>)                   │              <span style=\"color: #00af00; text-decoration-color: #00af00\">33</span> │\n",
       "└──────────────────────────────────────┴─────────────────────────────┴─────────────────┘\n",
       "</pre>\n"
      ],
      "text/plain": [
       "┏━━━━━━━━━━━━━━━━━━━━━━━━━━━━━━━━━━━━━━┳━━━━━━━━━━━━━━━━━━━━━━━━━━━━━┳━━━━━━━━━━━━━━━━━┓\n",
       "┃\u001b[1m \u001b[0m\u001b[1mLayer (type)                        \u001b[0m\u001b[1m \u001b[0m┃\u001b[1m \u001b[0m\u001b[1mOutput Shape               \u001b[0m\u001b[1m \u001b[0m┃\u001b[1m \u001b[0m\u001b[1m        Param #\u001b[0m\u001b[1m \u001b[0m┃\n",
       "┡━━━━━━━━━━━━━━━━━━━━━━━━━━━━━━━━━━━━━━╇━━━━━━━━━━━━━━━━━━━━━━━━━━━━━╇━━━━━━━━━━━━━━━━━┩\n",
       "│ input_layer_3 (\u001b[38;5;33mInputLayer\u001b[0m)           │ (\u001b[38;5;45mNone\u001b[0m, \u001b[38;5;34m24\u001b[0m, \u001b[38;5;34m6\u001b[0m)               │               \u001b[38;5;34m0\u001b[0m │\n",
       "├──────────────────────────────────────┼─────────────────────────────┼─────────────────┤\n",
       "│ tcn_2 (\u001b[38;5;33mTCN\u001b[0m)                          │ (\u001b[38;5;45mNone\u001b[0m, \u001b[38;5;34m32\u001b[0m)                  │         \u001b[38;5;34m148,160\u001b[0m │\n",
       "├──────────────────────────────────────┼─────────────────────────────┼─────────────────┤\n",
       "│ dense_2 (\u001b[38;5;33mDense\u001b[0m)                      │ (\u001b[38;5;45mNone\u001b[0m, \u001b[38;5;34m1\u001b[0m)                   │              \u001b[38;5;34m33\u001b[0m │\n",
       "└──────────────────────────────────────┴─────────────────────────────┴─────────────────┘\n"
      ]
     },
     "metadata": {},
     "output_type": "display_data"
    },
    {
     "data": {
      "text/html": [
       "<pre style=\"white-space:pre;overflow-x:auto;line-height:normal;font-family:Menlo,'DejaVu Sans Mono',consolas,'Courier New',monospace\"><span style=\"font-weight: bold\"> Total params: </span><span style=\"color: #00af00; text-decoration-color: #00af00\">148,193</span> (578.88 KB)\n",
       "</pre>\n"
      ],
      "text/plain": [
       "\u001b[1m Total params: \u001b[0m\u001b[38;5;34m148,193\u001b[0m (578.88 KB)\n"
      ]
     },
     "metadata": {},
     "output_type": "display_data"
    },
    {
     "data": {
      "text/html": [
       "<pre style=\"white-space:pre;overflow-x:auto;line-height:normal;font-family:Menlo,'DejaVu Sans Mono',consolas,'Courier New',monospace\"><span style=\"font-weight: bold\"> Trainable params: </span><span style=\"color: #00af00; text-decoration-color: #00af00\">148,193</span> (578.88 KB)\n",
       "</pre>\n"
      ],
      "text/plain": [
       "\u001b[1m Trainable params: \u001b[0m\u001b[38;5;34m148,193\u001b[0m (578.88 KB)\n"
      ]
     },
     "metadata": {},
     "output_type": "display_data"
    },
    {
     "data": {
      "text/html": [
       "<pre style=\"white-space:pre;overflow-x:auto;line-height:normal;font-family:Menlo,'DejaVu Sans Mono',consolas,'Courier New',monospace\"><span style=\"font-weight: bold\"> Non-trainable params: </span><span style=\"color: #00af00; text-decoration-color: #00af00\">0</span> (0.00 B)\n",
       "</pre>\n"
      ],
      "text/plain": [
       "\u001b[1m Non-trainable params: \u001b[0m\u001b[38;5;34m0\u001b[0m (0.00 B)\n"
      ]
     },
     "metadata": {},
     "output_type": "display_data"
    }
   ],
   "source": [
    "def create_tcn():\n",
    "    i = Input(shape=(X_train.shape[1], X_train.shape[2]))\n",
    "    m = TCN(nb_filters=32,\n",
    "                     kernel_size=4,\n",
    "                     nb_stacks=4,\n",
    "                     dilations=(2, 4, 8,16),\n",
    "                     padding='causal',\n",
    "                     use_skip_connections=True,\n",
    "                     dropout_rate=0.2,\n",
    "                     activation='relu',\n",
    "                     kernel_initializer='glorot_uniform',\n",
    "                     use_batch_norm=False,\n",
    "                     use_layer_norm=False,\n",
    "                     return_sequences = False)(i)\n",
    "    \n",
    "    m = Dense(1, activation='linear')(m)\n",
    "    model = Model(inputs=[i], outputs=[m])\n",
    "    model.summary()\n",
    "    \n",
    "    return model\n",
    "\n",
    "model_tcn = create_tcn()"
   ]
  },
  {
   "cell_type": "code",
   "execution_count": 31,
   "id": "c7ed5fda",
   "metadata": {},
   "outputs": [
    {
     "name": "stdout",
     "output_type": "stream",
     "text": [
      "Epoch 1/50\n",
      "121/121 - 22s - 178ms/step - loss: 0.0031 - val_loss: 0.3360\n",
      "Epoch 2/50\n",
      "121/121 - 5s - 37ms/step - loss: 0.0014 - val_loss: 0.0148\n",
      "Epoch 3/50\n",
      "121/121 - 4s - 36ms/step - loss: 7.5985e-04 - val_loss: 0.1698\n",
      "Epoch 4/50\n",
      "121/121 - 4s - 37ms/step - loss: 9.4524e-04 - val_loss: 0.0124\n",
      "Epoch 5/50\n",
      "121/121 - 4s - 37ms/step - loss: 6.7065e-04 - val_loss: 0.1047\n",
      "Epoch 6/50\n",
      "121/121 - 4s - 37ms/step - loss: 3.2152e-04 - val_loss: 0.0442\n",
      "Epoch 7/50\n",
      "121/121 - 5s - 37ms/step - loss: 3.1176e-04 - val_loss: 0.0626\n",
      "Epoch 8/50\n",
      "121/121 - 4s - 37ms/step - loss: 3.8430e-04 - val_loss: 0.0221\n",
      "Epoch 9/50\n",
      "121/121 - 4s - 37ms/step - loss: 3.0131e-04 - val_loss: 0.1032\n",
      "Epoch 10/50\n",
      "121/121 - 4s - 37ms/step - loss: 2.8366e-04 - val_loss: 0.0187\n",
      "Epoch 11/50\n",
      "121/121 - 4s - 37ms/step - loss: 2.7052e-04 - val_loss: 0.0212\n",
      "Epoch 12/50\n",
      "121/121 - 5s - 38ms/step - loss: 2.4405e-04 - val_loss: 0.0283\n",
      "Epoch 13/50\n",
      "121/121 - 4s - 37ms/step - loss: 5.1032e-04 - val_loss: 1.4402\n",
      "Epoch 14/50\n",
      "121/121 - 5s - 38ms/step - loss: 9.8188e-04 - val_loss: 0.0448\n",
      "Epoch 15/50\n",
      "121/121 - 5s - 39ms/step - loss: 2.5438e-04 - val_loss: 0.0433\n",
      "Epoch 16/50\n",
      "121/121 - 5s - 38ms/step - loss: 2.3405e-04 - val_loss: 0.1243\n",
      "Epoch 17/50\n",
      "121/121 - 4s - 37ms/step - loss: 1.8273e-04 - val_loss: 0.0054\n",
      "Epoch 18/50\n",
      "121/121 - 5s - 38ms/step - loss: 1.8282e-04 - val_loss: 0.0208\n",
      "Epoch 19/50\n",
      "121/121 - 5s - 37ms/step - loss: 2.1212e-04 - val_loss: 0.2021\n",
      "Epoch 20/50\n",
      "121/121 - 5s - 38ms/step - loss: 3.2350e-04 - val_loss: 0.5279\n",
      "Epoch 21/50\n",
      "121/121 - 4s - 36ms/step - loss: 4.4598e-04 - val_loss: 0.0688\n",
      "Epoch 22/50\n",
      "121/121 - 4s - 36ms/step - loss: 1.5364e-04 - val_loss: 0.0276\n",
      "Epoch 23/50\n",
      "121/121 - 5s - 38ms/step - loss: 1.6509e-04 - val_loss: 0.0553\n",
      "Epoch 24/50\n",
      "121/121 - 5s - 40ms/step - loss: 1.6945e-04 - val_loss: 0.1077\n",
      "Epoch 25/50\n",
      "121/121 - 4s - 37ms/step - loss: 1.8334e-04 - val_loss: 0.1902\n",
      "Epoch 26/50\n",
      "121/121 - 5s - 38ms/step - loss: 5.1868e-04 - val_loss: 0.0300\n",
      "Epoch 27/50\n",
      "121/121 - 5s - 39ms/step - loss: 2.2422e-04 - val_loss: 0.1882\n",
      "Epoch 28/50\n",
      "121/121 - 5s - 40ms/step - loss: 1.7878e-04 - val_loss: 0.3034\n",
      "Epoch 29/50\n",
      "121/121 - 5s - 38ms/step - loss: 3.8988e-04 - val_loss: 0.0089\n",
      "Epoch 30/50\n",
      "121/121 - 4s - 36ms/step - loss: 2.2088e-04 - val_loss: 0.0225\n",
      "Epoch 31/50\n",
      "121/121 - 4s - 37ms/step - loss: 3.1454e-04 - val_loss: 0.0051\n",
      "Epoch 32/50\n",
      "121/121 - 5s - 39ms/step - loss: 2.5256e-04 - val_loss: 0.4524\n",
      "Epoch 33/50\n",
      "121/121 - 4s - 37ms/step - loss: 4.6448e-04 - val_loss: 0.0087\n",
      "Epoch 34/50\n",
      "121/121 - 5s - 38ms/step - loss: 1.5706e-04 - val_loss: 0.0272\n",
      "Epoch 35/50\n",
      "121/121 - 5s - 38ms/step - loss: 2.1362e-04 - val_loss: 0.0104\n",
      "Epoch 36/50\n",
      "121/121 - 5s - 38ms/step - loss: 1.1881e-04 - val_loss: 0.5393\n",
      "Epoch 37/50\n",
      "121/121 - 5s - 39ms/step - loss: 6.7059e-04 - val_loss: 0.0087\n",
      "Epoch 37: early stopping\n",
      "Restoring model weights from the end of the best epoch: 17.\n"
     ]
    }
   ],
   "source": [
    "model_tcn.compile(loss='mse', optimizer='adam')\n",
    "tcn_history = model_tcn.fit(X_train,y_train,validation_data=(X_test,y_test),callbacks=[es],verbose=2,epochs=50,batch_size=64)\n"
   ]
  },
  {
   "cell_type": "code",
   "execution_count": 32,
   "id": "7e15c253",
   "metadata": {},
   "outputs": [
    {
     "name": "stdout",
     "output_type": "stream",
     "text": [
      "\u001b[1m60/60\u001b[0m \u001b[32m━━━━━━━━━━━━━━━━━━━━\u001b[0m\u001b[37m\u001b[0m \u001b[1m2s\u001b[0m 25ms/step\n"
     ]
    }
   ],
   "source": [
    "y_pred_tcn = model_tcn.predict(X_test)"
   ]
  },
  {
   "cell_type": "code",
   "execution_count": 37,
   "id": "1e7404e6",
   "metadata": {},
   "outputs": [
    {
     "name": "stdout",
     "output_type": "stream",
     "text": [
      "Evaluation metric results:-\n",
      "MSE is : 0.005375963313248998\n",
      "MAE is : 0.05563854122263165\n",
      "RMSE is : 0.07332096094057278\n",
      "MAPE is : 79.05985663655655\n",
      "R2 is : 0.9982063184890423\n",
      "\n"
     ]
    }
   ],
   "source": [
    "timeseries_evaluation_metrics_func(y_test,y_pred_tcn)"
   ]
  },
  {
   "cell_type": "code",
   "execution_count": 38,
   "id": "d13fbc1a",
   "metadata": {},
   "outputs": [
    {
     "name": "stderr",
     "output_type": "stream",
     "text": [
      "WARNING:absl:You are saving your model as an HDF5 file via `model.save()` or `keras.saving.save_model(model)`. This file format is considered legacy. We recommend using instead the native Keras format, e.g. `model.save('my_model.keras')` or `keras.saving.save_model(model, 'my_model.keras')`. \n"
     ]
    }
   ],
   "source": [
    "model_tcn.save('TCN_model_0.0053.h5')"
   ]
  },
  {
   "cell_type": "code",
   "execution_count": null,
   "id": "a112646c",
   "metadata": {},
   "outputs": [],
   "source": []
  }
 ],
 "metadata": {
  "kernelspec": {
   "display_name": "Python 3 (ipykernel)",
   "language": "python",
   "name": "python3"
  },
  "language_info": {
   "codemirror_mode": {
    "name": "ipython",
    "version": 3
   },
   "file_extension": ".py",
   "mimetype": "text/x-python",
   "name": "python",
   "nbconvert_exporter": "python",
   "pygments_lexer": "ipython3",
   "version": "3.11.5"
  }
 },
 "nbformat": 4,
 "nbformat_minor": 5
}
