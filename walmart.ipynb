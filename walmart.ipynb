{
 "cells": [
  {
   "cell_type": "code",
   "execution_count": 148,
   "id": "eff7780a-2233-4ebf-a37e-1960e163a5bb",
   "metadata": {},
   "outputs": [],
   "source": [
    "# Import necessary packages\n",
    "import pandas as pd\n",
    "import numpy as np\n",
    "import matplotlib.pyplot as plt\n",
    "import seaborn as sns\n",
    "from sklearn.model_selection import train_test_split, cross_val_score, GridSearchCV\n",
    "from sklearn.linear_model import LinearRegression, Ridge\n",
    "from sklearn.ensemble import RandomForestRegressor\n",
    "from sklearn.metrics import mean_squared_error, r2_score\n",
    "from keras.models import Sequential\n",
    "from keras.layers import Dense\n",
    "from scipy.stats import zscore\n",
    "from statsmodels.tsa.stattools import adfuller\n",
    "from pmdarima import auto_arima\n",
    "from sklearn.preprocessing import MinMaxScaler, StandardScaler\n",
    "import tensorflow as tf\n",
    "from tensorflow.keras.layers import Input, Dropout, Dense, LSTM, TimeDistributed, RepeatVector\n",
    "from tensorflow.keras.models import Model\n",
    "from tensorflow.keras import regularizers\n",
    "from sklearn.metrics import mean_squared_error, mean_absolute_error, r2_score\n"
   ]
  },
  {
   "cell_type": "code",
   "execution_count": 107,
   "id": "7fbc2a59-db70-470d-98a5-2aae94d62d90",
   "metadata": {},
   "outputs": [
    {
     "name": "stdout",
     "output_type": "stream",
     "text": [
      "<class 'pandas.core.frame.DataFrame'>\n",
      "RangeIndex: 421570 entries, 0 to 421569\n",
      "Data columns (total 17 columns):\n",
      " #   Column        Non-Null Count   Dtype  \n",
      "---  ------        --------------   -----  \n",
      " 0   Unnamed: 0    421570 non-null  int64  \n",
      " 1   Store         421570 non-null  int64  \n",
      " 2   Date          421570 non-null  object \n",
      " 3   IsHoliday     421570 non-null  int64  \n",
      " 4   Dept          421570 non-null  float64\n",
      " 5   Weekly_Sales  421570 non-null  float64\n",
      " 6   Temperature   421570 non-null  float64\n",
      " 7   Fuel_Price    421570 non-null  float64\n",
      " 8   MarkDown1     421570 non-null  float64\n",
      " 9   MarkDown2     421570 non-null  float64\n",
      " 10  MarkDown3     421570 non-null  float64\n",
      " 11  MarkDown4     421570 non-null  float64\n",
      " 12  MarkDown5     421570 non-null  float64\n",
      " 13  CPI           421570 non-null  float64\n",
      " 14  Unemployment  421570 non-null  float64\n",
      " 15  Type          421570 non-null  int64  \n",
      " 16  Size          421570 non-null  int64  \n",
      "dtypes: float64(11), int64(5), object(1)\n",
      "memory usage: 54.7+ MB\n"
     ]
    },
    {
     "data": {
      "text/plain": [
       "(   Unnamed: 0  Store        Date  IsHoliday  Dept  Weekly_Sales  Temperature  \\\n",
       " 0           0      1  2010-02-05          0   1.0      24924.50        42.31   \n",
       " 1           1      1  2010-02-05          0  26.0      11737.12        42.31   \n",
       " 2           2      1  2010-02-05          0  17.0      13223.76        42.31   \n",
       " 3           3      1  2010-02-05          0  45.0         37.44        42.31   \n",
       " 4           4      1  2010-02-05          0  28.0       1085.29        42.31   \n",
       " \n",
       "    Fuel_Price  MarkDown1  MarkDown2  MarkDown3  MarkDown4  MarkDown5  \\\n",
       " 0       2.572        0.0        0.0        0.0        0.0        0.0   \n",
       " 1       2.572        0.0        0.0        0.0        0.0        0.0   \n",
       " 2       2.572        0.0        0.0        0.0        0.0        0.0   \n",
       " 3       2.572        0.0        0.0        0.0        0.0        0.0   \n",
       " 4       2.572        0.0        0.0        0.0        0.0        0.0   \n",
       " \n",
       "           CPI  Unemployment  Type    Size  \n",
       " 0  211.096358         8.106     3  151315  \n",
       " 1  211.096358         8.106     3  151315  \n",
       " 2  211.096358         8.106     3  151315  \n",
       " 3  211.096358         8.106     3  151315  \n",
       " 4  211.096358         8.106     3  151315  ,\n",
       " None)"
      ]
     },
     "execution_count": 107,
     "metadata": {},
     "output_type": "execute_result"
    }
   ],
   "source": [
    "df= pd.read_csv('archive (14)/walmart_cleaned.csv')\n",
    "# Display the first few rows and summary information of the dataset to understand its structure\n",
    "df.head(), df.info()"
   ]
  },
  {
   "cell_type": "code",
   "execution_count": 108,
   "id": "ee1832d3-eefa-4217-847b-b45415764113",
   "metadata": {},
   "outputs": [],
   "source": [
    "# Data preprocessing\n",
    "df.drop(columns=['Unnamed: 0'], inplace=True)\n",
    "df['Date'] = pd.to_datetime(df['Date'])\n",
    "df.sort_values('Date', inplace=True)\n",
    "df.set_index('Date', inplace=True)\n",
    "df['Type'] = df['Type'].astype('category').cat.codes"
   ]
  },
  {
   "cell_type": "code",
   "execution_count": null,
   "id": "4f6c36de-d00c-4f05-b7d0-22ac1fcf9e60",
   "metadata": {},
   "outputs": [],
   "source": []
  },
  {
   "cell_type": "code",
   "execution_count": 109,
   "id": "de5217ef-29db-4299-b3f9-99aba41d8ec4",
   "metadata": {},
   "outputs": [
    {
     "name": "stdout",
     "output_type": "stream",
     "text": [
      "(359432, 15) (65081, 15)\n"
     ]
    }
   ],
   "source": [
    "import pandas as pd\n",
    "from sklearn.preprocessing import StandardScaler\n",
    "import numpy as np\n",
    "import matplotlib.pyplot as plt\n",
    "\n",
    "# Feature scaling\n",
    "scaler = StandardScaler()\n",
    "numerical_cols = ['Weekly_Sales', 'Temperature', 'Fuel_Price', 'MarkDown1', 'MarkDown2', 'MarkDown3', \n",
    "                  'MarkDown4', 'MarkDown5', 'CPI', 'Unemployment', 'Size']\n",
    "df[numerical_cols] = scaler.fit_transform(df[numerical_cols])\n",
    "\n",
    "# Split the data\n",
    "target_variable = 'Weekly_Sales'\n",
    "split_date = '2012-06-01'\n",
    "train = df.loc[:split_date]\n",
    "test = df.loc[split_date:]\n",
    "\n",
    "# Confirm the shapes of the train and test sets\n",
    "print(train.shape, test.shape)\n"
   ]
  },
  {
   "cell_type": "code",
   "execution_count": null,
   "id": "16773398-ba79-4d77-83ad-f4e758639297",
   "metadata": {},
   "outputs": [],
   "source": []
  },
  {
   "cell_type": "markdown",
   "id": "d2f187be-4e8d-459c-ae30-7b1d5ce51855",
   "metadata": {},
   "source": [
    "### arima"
   ]
  },
  {
   "cell_type": "code",
   "execution_count": 110,
   "id": "d94bf20f-9435-4b30-ac74-273f83573cd7",
   "metadata": {},
   "outputs": [
    {
     "name": "stderr",
     "output_type": "stream",
     "text": [
      "C:\\Users\\medan\\AppData\\Local\\Programs\\Python\\Python311\\Lib\\site-packages\\statsmodels\\tsa\\base\\tsa_model.py:473: ValueWarning: A date index has been provided, but it has no associated frequency information and so will be ignored when e.g. forecasting.\n",
      "  self._init_dates(dates, freq)\n",
      "C:\\Users\\medan\\AppData\\Local\\Programs\\Python\\Python311\\Lib\\site-packages\\statsmodels\\tsa\\base\\tsa_model.py:473: ValueWarning: A date index has been provided, but it has no associated frequency information and so will be ignored when e.g. forecasting.\n",
      "  self._init_dates(dates, freq)\n",
      "C:\\Users\\medan\\AppData\\Local\\Programs\\Python\\Python311\\Lib\\site-packages\\statsmodels\\tsa\\base\\tsa_model.py:473: ValueWarning: A date index has been provided, but it has no associated frequency information and so will be ignored when e.g. forecasting.\n",
      "  self._init_dates(dates, freq)\n",
      "C:\\Users\\medan\\AppData\\Local\\Programs\\Python\\Python311\\Lib\\site-packages\\statsmodels\\tsa\\base\\tsa_model.py:836: ValueWarning: No supported index is available. Prediction results will be given with an integer index beginning at `start`.\n",
      "  return get_prediction_index(\n",
      "C:\\Users\\medan\\AppData\\Local\\Programs\\Python\\Python311\\Lib\\site-packages\\statsmodels\\tsa\\base\\tsa_model.py:836: FutureWarning: No supported index is available. In the next version, calling this method in a model without a supported index will result in an exception.\n",
      "  return get_prediction_index(\n"
     ]
    },
    {
     "name": "stdout",
     "output_type": "stream",
     "text": [
      "ARIMA RMSE: 1.192591025555719\n"
     ]
    }
   ],
   "source": [
    "from statsmodels.tsa.arima.model import ARIMA\n",
    "from sklearn.metrics import mean_squared_error\n",
    "\n",
    "# Define and fit the ARIMA model\n",
    "arima_model = ARIMA(train[target_variable], order=(5, 1, 0))\n",
    "arima_fit = arima_model.fit()\n",
    "\n",
    "# Make predictions\n",
    "arima_forecast = arima_fit.forecast(steps=len(test))\n",
    "\n",
    "# Evaluate the ARIMA model\n",
    "arima_mse = mean_squared_error(test[target_variable], arima_forecast)\n",
    "arima_rmse = arima_mse ** 0.5\n",
    "print('ARIMA RMSE:', arima_rmse)\n"
   ]
  },
  {
   "cell_type": "code",
   "execution_count": 111,
   "id": "79b481ec-66a6-46b0-9cb4-20b8ca46071d",
   "metadata": {},
   "outputs": [
    {
     "data": {
      "text/plain": [
       "1.422273354236042"
      ]
     },
     "execution_count": 111,
     "metadata": {},
     "output_type": "execute_result"
    }
   ],
   "source": [
    "arima_mse"
   ]
  },
  {
   "cell_type": "code",
   "execution_count": 116,
   "id": "70b85112-b898-4ee8-af28-8e303bf22d66",
   "metadata": {},
   "outputs": [
    {
     "data": {
      "text/plain": [
       "0.6942278354240268"
      ]
     },
     "execution_count": 116,
     "metadata": {},
     "output_type": "execute_result"
    }
   ],
   "source": [
    "arima_mae = mean_absolute_error(test[target_variable], arima_forecast)\n",
    "arima_mae\n"
   ]
  },
  {
   "cell_type": "code",
   "execution_count": 147,
   "id": "09593fdd-18eb-4c5c-a8ed-d47065da17a0",
   "metadata": {},
   "outputs": [
    {
     "data": {
      "text/plain": [
       "-0.5120446447070328"
      ]
     },
     "execution_count": 147,
     "metadata": {},
     "output_type": "execute_result"
    }
   ],
   "source": [
    "arima_r2 = r2_score(test[target_variable], arima_forecast)\n",
    "arima_r2"
   ]
  },
  {
   "cell_type": "markdown",
   "id": "412eca33-5d24-459b-ae1c-3a6444d89b34",
   "metadata": {},
   "source": [
    "### Sarima"
   ]
  },
  {
   "cell_type": "code",
   "execution_count": 71,
   "id": "e386635e-26b4-471a-8ebb-69cb65fc5fd6",
   "metadata": {},
   "outputs": [
    {
     "name": "stderr",
     "output_type": "stream",
     "text": [
      "C:\\Users\\medan\\AppData\\Local\\Programs\\Python\\Python311\\Lib\\site-packages\\statsmodels\\tsa\\base\\tsa_model.py:473: ValueWarning: A date index has been provided, but it has no associated frequency information and so will be ignored when e.g. forecasting.\n",
      "  self._init_dates(dates, freq)\n",
      "C:\\Users\\medan\\AppData\\Local\\Programs\\Python\\Python311\\Lib\\site-packages\\statsmodels\\tsa\\base\\tsa_model.py:473: ValueWarning: A date index has been provided, but it has no associated frequency information and so will be ignored when e.g. forecasting.\n",
      "  self._init_dates(dates, freq)\n",
      "C:\\Users\\medan\\AppData\\Local\\Programs\\Python\\Python311\\Lib\\site-packages\\statsmodels\\base\\model.py:607: ConvergenceWarning: Maximum Likelihood optimization failed to converge. Check mle_retvals\n",
      "  warnings.warn(\"Maximum Likelihood optimization failed to \"\n",
      "C:\\Users\\medan\\AppData\\Local\\Programs\\Python\\Python311\\Lib\\site-packages\\statsmodels\\tsa\\base\\tsa_model.py:836: ValueWarning: No supported index is available. Prediction results will be given with an integer index beginning at `start`.\n",
      "  return get_prediction_index(\n",
      "C:\\Users\\medan\\AppData\\Local\\Programs\\Python\\Python311\\Lib\\site-packages\\statsmodels\\tsa\\base\\tsa_model.py:836: FutureWarning: No supported index is available. In the next version, calling this method in a model without a supported index will result in an exception.\n",
      "  return get_prediction_index(\n"
     ]
    },
    {
     "name": "stdout",
     "output_type": "stream",
     "text": [
      "SARIMA RMSE: 0.9988771339402445\n"
     ]
    }
   ],
   "source": [
    "from statsmodels.tsa.statespace.sarimax import SARIMAX\n",
    "\n",
    "# Define and fit the SARIMA model\n",
    "sarima_model = SARIMAX(train[target_variable], order=(1, 1, 1), seasonal_order=(1, 1, 1, 12))\n",
    "sarima_fit = sarima_model.fit()\n",
    "\n",
    "# Make predictions\n",
    "sarima_forecast = sarima_fit.forecast(steps=len(test))\n",
    "\n",
    "# Evaluate the SARIMA model\n",
    "sarima_mse = mean_squared_error(test[target_variable], sarima_forecast)\n",
    "sarima_rmse = sarima_mse ** 0.5\n",
    "print('SARIMA RMSE:', sarima_rmse)\n"
   ]
  },
  {
   "cell_type": "code",
   "execution_count": 83,
   "id": "102ceff8-f941-41a7-a2cb-18d33723e644",
   "metadata": {},
   "outputs": [
    {
     "data": {
      "text/plain": [
       "0.9977555287086771"
      ]
     },
     "execution_count": 83,
     "metadata": {},
     "output_type": "execute_result"
    }
   ],
   "source": [
    "sarima_mse"
   ]
  },
  {
   "cell_type": "code",
   "execution_count": 141,
   "id": "8e15600c-ce7c-4569-923b-2d98a38ef4bf",
   "metadata": {},
   "outputs": [
    {
     "data": {
      "text/plain": [
       "0.5975929306148261"
      ]
     },
     "execution_count": 141,
     "metadata": {},
     "output_type": "execute_result"
    }
   ],
   "source": [
    "sarima_mae = mean_absolute_error(test[target_variable], sarima_forecast)\n",
    "sarima_mae\n"
   ]
  },
  {
   "cell_type": "code",
   "execution_count": 150,
   "id": "f6896c4a-fe07-49e4-a2c2-2ae130506c77",
   "metadata": {},
   "outputs": [
    {
     "data": {
      "text/plain": [
       "-0.06073203116509496"
      ]
     },
     "execution_count": 150,
     "metadata": {},
     "output_type": "execute_result"
    }
   ],
   "source": [
    "sarima_r2 = r2_score(test[target_variable], sarima_forecast)\n",
    "sarima_r2"
   ]
  },
  {
   "cell_type": "code",
   "execution_count": 152,
   "id": "aef2ffdb-cde2-4558-9b58-8f1984f1979c",
   "metadata": {},
   "outputs": [
    {
     "data": {
      "text/plain": [
       "0.08954992471936207"
      ]
     },
     "execution_count": 152,
     "metadata": {},
     "output_type": "execute_result"
    }
   ],
   "source": [
    "lr_r2 = r2_score(y_test, lr_forecast)\n",
    "lr_r2"
   ]
  },
  {
   "cell_type": "markdown",
   "id": "b2fb82d6-7395-4e6a-b77a-2becaab8be7b",
   "metadata": {},
   "source": [
    "### Linear Regression"
   ]
  },
  {
   "cell_type": "code",
   "execution_count": 74,
   "id": "835775b5-08a2-4246-9551-9b0cf5022df8",
   "metadata": {},
   "outputs": [
    {
     "name": "stdout",
     "output_type": "stream",
     "text": [
      "Linear Regression RMSE: 0.9254166260687549\n"
     ]
    }
   ],
   "source": [
    "from sklearn.linear_model import LinearRegression\n",
    "\n",
    "# Prepare the features and target variable\n",
    "X_train = train.drop(columns=[target_variable])\n",
    "y_train = train[target_variable]\n",
    "X_test = test.drop(columns=[target_variable])\n",
    "y_test = test[target_variable]\n",
    "\n",
    "# Define and fit the Linear Regression model\n",
    "lr_model = LinearRegression()\n",
    "lr_model.fit(X_train, y_train)\n",
    "\n",
    "# Make predictions\n",
    "lr_forecast = lr_model.predict(X_test)\n",
    "\n",
    "# Evaluate the Linear Regression model\n",
    "lr_mse = mean_squared_error(y_test, lr_forecast)\n",
    "lr_rmse = lr_mse ** 0.5\n",
    "print('Linear Regression RMSE:', lr_rmse)\n"
   ]
  },
  {
   "cell_type": "code",
   "execution_count": 139,
   "id": "1e51aabd-50dd-4704-8036-a7e22c0e4589",
   "metadata": {},
   "outputs": [
    {
     "data": {
      "text/plain": [
       "0.8563959318044777"
      ]
     },
     "execution_count": 139,
     "metadata": {},
     "output_type": "execute_result"
    }
   ],
   "source": [
    "lr_mse"
   ]
  },
  {
   "cell_type": "code",
   "execution_count": 140,
   "id": "db690fcb-1a16-4d24-8b1d-fc2f2a03a9f2",
   "metadata": {},
   "outputs": [
    {
     "data": {
      "text/plain": [
       "0.6511821495913411"
      ]
     },
     "execution_count": 140,
     "metadata": {},
     "output_type": "execute_result"
    }
   ],
   "source": [
    "lr_mae = mean_absolute_error(test[target_variable], lr_forecast)\n",
    "lr_mae\n"
   ]
  },
  {
   "cell_type": "markdown",
   "id": "4343900b-9d80-4a07-9bdf-1c39350e70a0",
   "metadata": {},
   "source": [
    "### LSTM"
   ]
  },
  {
   "cell_type": "code",
   "execution_count": 130,
   "id": "1d9df65d-809e-4612-a433-2c148c3b2d8b",
   "metadata": {},
   "outputs": [
    {
     "name": "stderr",
     "output_type": "stream",
     "text": [
      "C:\\Users\\medan\\AppData\\Local\\Programs\\Python\\Python311\\Lib\\site-packages\\keras\\src\\layers\\rnn\\rnn.py:204: UserWarning: Do not pass an `input_shape`/`input_dim` argument to a layer. When using Sequential models, prefer using an `Input(shape)` object as the first layer in the model instead.\n",
      "  super().__init__(**kwargs)\n"
     ]
    },
    {
     "name": "stdout",
     "output_type": "stream",
     "text": [
      "Epoch 1/40\n",
      "\u001b[1m11232/11232\u001b[0m \u001b[32m━━━━━━━━━━━━━━━━━━━━\u001b[0m\u001b[37m\u001b[0m \u001b[1m21s\u001b[0m 2ms/step - loss: 1.2870\n",
      "Epoch 2/40\n",
      "\u001b[1m11232/11232\u001b[0m \u001b[32m━━━━━━━━━━━━━━━━━━━━\u001b[0m\u001b[37m\u001b[0m \u001b[1m20s\u001b[0m 2ms/step - loss: 0.9545\n",
      "Epoch 3/40\n",
      "\u001b[1m11232/11232\u001b[0m \u001b[32m━━━━━━━━━━━━━━━━━━━━\u001b[0m\u001b[37m\u001b[0m \u001b[1m20s\u001b[0m 2ms/step - loss: 0.9519\n",
      "Epoch 4/40\n",
      "\u001b[1m11232/11232\u001b[0m \u001b[32m━━━━━━━━━━━━━━━━━━━━\u001b[0m\u001b[37m\u001b[0m \u001b[1m19s\u001b[0m 2ms/step - loss: 0.9447\n",
      "Epoch 5/40\n",
      "\u001b[1m11232/11232\u001b[0m \u001b[32m━━━━━━━━━━━━━━━━━━━━\u001b[0m\u001b[37m\u001b[0m \u001b[1m19s\u001b[0m 2ms/step - loss: 0.9473\n",
      "Epoch 6/40\n",
      "\u001b[1m11232/11232\u001b[0m \u001b[32m━━━━━━━━━━━━━━━━━━━━\u001b[0m\u001b[37m\u001b[0m \u001b[1m19s\u001b[0m 2ms/step - loss: 0.9364\n",
      "Epoch 7/40\n",
      "\u001b[1m11232/11232\u001b[0m \u001b[32m━━━━━━━━━━━━━━━━━━━━\u001b[0m\u001b[37m\u001b[0m \u001b[1m19s\u001b[0m 2ms/step - loss: 0.9295\n",
      "Epoch 8/40\n",
      "\u001b[1m11232/11232\u001b[0m \u001b[32m━━━━━━━━━━━━━━━━━━━━\u001b[0m\u001b[37m\u001b[0m \u001b[1m19s\u001b[0m 2ms/step - loss: 0.9432\n",
      "Epoch 9/40\n",
      "\u001b[1m11232/11232\u001b[0m \u001b[32m━━━━━━━━━━━━━━━━━━━━\u001b[0m\u001b[37m\u001b[0m \u001b[1m19s\u001b[0m 2ms/step - loss: 0.9404\n",
      "Epoch 10/40\n",
      "\u001b[1m11232/11232\u001b[0m \u001b[32m━━━━━━━━━━━━━━━━━━━━\u001b[0m\u001b[37m\u001b[0m \u001b[1m19s\u001b[0m 2ms/step - loss: 0.9494\n",
      "Epoch 11/40\n",
      "\u001b[1m11232/11232\u001b[0m \u001b[32m━━━━━━━━━━━━━━━━━━━━\u001b[0m\u001b[37m\u001b[0m \u001b[1m19s\u001b[0m 2ms/step - loss: 0.9326\n",
      "Epoch 12/40\n",
      "\u001b[1m11232/11232\u001b[0m \u001b[32m━━━━━━━━━━━━━━━━━━━━\u001b[0m\u001b[37m\u001b[0m \u001b[1m20s\u001b[0m 2ms/step - loss: 0.9401\n",
      "Epoch 13/40\n",
      "\u001b[1m11232/11232\u001b[0m \u001b[32m━━━━━━━━━━━━━━━━━━━━\u001b[0m\u001b[37m\u001b[0m \u001b[1m20s\u001b[0m 2ms/step - loss: 0.9399\n",
      "Epoch 14/40\n",
      "\u001b[1m11232/11232\u001b[0m \u001b[32m━━━━━━━━━━━━━━━━━━━━\u001b[0m\u001b[37m\u001b[0m \u001b[1m19s\u001b[0m 2ms/step - loss: 0.9373\n",
      "Epoch 15/40\n",
      "\u001b[1m11232/11232\u001b[0m \u001b[32m━━━━━━━━━━━━━━━━━━━━\u001b[0m\u001b[37m\u001b[0m \u001b[1m19s\u001b[0m 2ms/step - loss: 0.9314\n",
      "Epoch 16/40\n",
      "\u001b[1m11232/11232\u001b[0m \u001b[32m━━━━━━━━━━━━━━━━━━━━\u001b[0m\u001b[37m\u001b[0m \u001b[1m19s\u001b[0m 2ms/step - loss: 0.9357\n",
      "Epoch 17/40\n",
      "\u001b[1m11232/11232\u001b[0m \u001b[32m━━━━━━━━━━━━━━━━━━━━\u001b[0m\u001b[37m\u001b[0m \u001b[1m19s\u001b[0m 2ms/step - loss: 0.9332\n",
      "Epoch 18/40\n",
      "\u001b[1m11232/11232\u001b[0m \u001b[32m━━━━━━━━━━━━━━━━━━━━\u001b[0m\u001b[37m\u001b[0m \u001b[1m19s\u001b[0m 2ms/step - loss: 0.9338\n",
      "Epoch 19/40\n",
      "\u001b[1m11232/11232\u001b[0m \u001b[32m━━━━━━━━━━━━━━━━━━━━\u001b[0m\u001b[37m\u001b[0m \u001b[1m19s\u001b[0m 2ms/step - loss: 0.9424\n",
      "Epoch 20/40\n",
      "\u001b[1m11232/11232\u001b[0m \u001b[32m━━━━━━━━━━━━━━━━━━━━\u001b[0m\u001b[37m\u001b[0m \u001b[1m19s\u001b[0m 2ms/step - loss: 0.9370\n",
      "Epoch 21/40\n",
      "\u001b[1m11232/11232\u001b[0m \u001b[32m━━━━━━━━━━━━━━━━━━━━\u001b[0m\u001b[37m\u001b[0m \u001b[1m19s\u001b[0m 2ms/step - loss: 0.9324\n",
      "Epoch 22/40\n",
      "\u001b[1m11232/11232\u001b[0m \u001b[32m━━━━━━━━━━━━━━━━━━━━\u001b[0m\u001b[37m\u001b[0m \u001b[1m19s\u001b[0m 2ms/step - loss: 0.9353\n",
      "Epoch 23/40\n",
      "\u001b[1m11232/11232\u001b[0m \u001b[32m━━━━━━━━━━━━━━━━━━━━\u001b[0m\u001b[37m\u001b[0m \u001b[1m19s\u001b[0m 2ms/step - loss: 0.9428\n",
      "Epoch 24/40\n",
      "\u001b[1m11232/11232\u001b[0m \u001b[32m━━━━━━━━━━━━━━━━━━━━\u001b[0m\u001b[37m\u001b[0m \u001b[1m20s\u001b[0m 2ms/step - loss: 0.9504\n",
      "Epoch 25/40\n",
      "\u001b[1m11232/11232\u001b[0m \u001b[32m━━━━━━━━━━━━━━━━━━━━\u001b[0m\u001b[37m\u001b[0m \u001b[1m20s\u001b[0m 2ms/step - loss: 0.9333\n",
      "Epoch 26/40\n",
      "\u001b[1m11232/11232\u001b[0m \u001b[32m━━━━━━━━━━━━━━━━━━━━\u001b[0m\u001b[37m\u001b[0m \u001b[1m19s\u001b[0m 2ms/step - loss: 0.9559\n",
      "Epoch 27/40\n",
      "\u001b[1m11232/11232\u001b[0m \u001b[32m━━━━━━━━━━━━━━━━━━━━\u001b[0m\u001b[37m\u001b[0m \u001b[1m20s\u001b[0m 2ms/step - loss: 0.9344\n",
      "Epoch 28/40\n",
      "\u001b[1m11232/11232\u001b[0m \u001b[32m━━━━━━━━━━━━━━━━━━━━\u001b[0m\u001b[37m\u001b[0m \u001b[1m20s\u001b[0m 2ms/step - loss: 0.9295\n",
      "Epoch 29/40\n",
      "\u001b[1m11232/11232\u001b[0m \u001b[32m━━━━━━━━━━━━━━━━━━━━\u001b[0m\u001b[37m\u001b[0m \u001b[1m20s\u001b[0m 2ms/step - loss: 0.9277\n",
      "Epoch 30/40\n",
      "\u001b[1m11232/11232\u001b[0m \u001b[32m━━━━━━━━━━━━━━━━━━━━\u001b[0m\u001b[37m\u001b[0m \u001b[1m21s\u001b[0m 2ms/step - loss: 0.9273\n",
      "Epoch 31/40\n",
      "\u001b[1m11232/11232\u001b[0m \u001b[32m━━━━━━━━━━━━━━━━━━━━\u001b[0m\u001b[37m\u001b[0m \u001b[1m20s\u001b[0m 2ms/step - loss: 0.9286\n",
      "Epoch 32/40\n",
      "\u001b[1m11232/11232\u001b[0m \u001b[32m━━━━━━━━━━━━━━━━━━━━\u001b[0m\u001b[37m\u001b[0m \u001b[1m20s\u001b[0m 2ms/step - loss: 0.9368\n",
      "Epoch 33/40\n",
      "\u001b[1m11232/11232\u001b[0m \u001b[32m━━━━━━━━━━━━━━━━━━━━\u001b[0m\u001b[37m\u001b[0m \u001b[1m20s\u001b[0m 2ms/step - loss: 0.9313\n",
      "Epoch 34/40\n",
      "\u001b[1m11232/11232\u001b[0m \u001b[32m━━━━━━━━━━━━━━━━━━━━\u001b[0m\u001b[37m\u001b[0m \u001b[1m20s\u001b[0m 2ms/step - loss: 0.9354\n",
      "Epoch 35/40\n",
      "\u001b[1m11232/11232\u001b[0m \u001b[32m━━━━━━━━━━━━━━━━━━━━\u001b[0m\u001b[37m\u001b[0m \u001b[1m20s\u001b[0m 2ms/step - loss: 0.9391\n",
      "Epoch 36/40\n",
      "\u001b[1m11232/11232\u001b[0m \u001b[32m━━━━━━━━━━━━━━━━━━━━\u001b[0m\u001b[37m\u001b[0m \u001b[1m20s\u001b[0m 2ms/step - loss: 0.9995\n",
      "Epoch 37/40\n",
      "\u001b[1m11232/11232\u001b[0m \u001b[32m━━━━━━━━━━━━━━━━━━━━\u001b[0m\u001b[37m\u001b[0m \u001b[1m20s\u001b[0m 2ms/step - loss: 0.9425\n",
      "Epoch 38/40\n",
      "\u001b[1m11232/11232\u001b[0m \u001b[32m━━━━━━━━━━━━━━━━━━━━\u001b[0m\u001b[37m\u001b[0m \u001b[1m20s\u001b[0m 2ms/step - loss: 0.9226\n",
      "Epoch 39/40\n",
      "\u001b[1m11232/11232\u001b[0m \u001b[32m━━━━━━━━━━━━━━━━━━━━\u001b[0m\u001b[37m\u001b[0m \u001b[1m20s\u001b[0m 2ms/step - loss: 0.9228\n",
      "Epoch 40/40\n",
      "\u001b[1m11232/11232\u001b[0m \u001b[32m━━━━━━━━━━━━━━━━━━━━\u001b[0m\u001b[37m\u001b[0m \u001b[1m20s\u001b[0m 2ms/step - loss: 0.9178\n",
      "\u001b[1m2034/2034\u001b[0m \u001b[32m━━━━━━━━━━━━━━━━━━━━\u001b[0m\u001b[37m\u001b[0m \u001b[1m2s\u001b[0m 918us/step\n",
      "LSTM RMSE: 0.940787167550511\n"
     ]
    }
   ],
   "source": [
    "import tensorflow as tf\n",
    "from tensorflow.keras.models import Sequential\n",
    "from tensorflow.keras.layers import LSTM, Dense\n",
    "\n",
    "# Prepare the data for LSTM\n",
    "def create_dataset(X, y, time_steps=1):\n",
    "    Xs, ys = [], []\n",
    "    for i in range(len(X) - time_steps):\n",
    "        Xs.append(X.iloc[i:(i + time_steps)].values)\n",
    "        ys.append(y.iloc[i + time_steps])\n",
    "    return np.array(Xs), np.array(ys)\n",
    "\n",
    "time_steps = 10\n",
    "X_train_lstm, y_train_lstm = create_dataset(train, train[target_variable], time_steps)\n",
    "X_test_lstm, y_test_lstm = create_dataset(test, test[target_variable], time_steps)\n",
    "\n",
    "# Define the LSTM model\n",
    "lstm_model = Sequential()\n",
    "lstm_model.add(LSTM(50, activation='relu', input_shape=(time_steps, X_train_lstm.shape[2])))\n",
    "lstm_model.add(Dense(1))\n",
    "lstm_model.compile(optimizer='adam', loss='mse')\n",
    "\n",
    "# Fit the LSTM model\n",
    "lstm_model.fit(X_train_lstm, y_train_lstm, epochs=40, batch_size=32, verbose=1)\n",
    "\n",
    "# Make predictions\n",
    "lstm_forecast = lstm_model.predict(X_test_lstm)\n",
    "\n",
    "# Evaluate the LSTM model\n",
    "lstm_mse = mean_squared_error(y_test_lstm, lstm_forecast)\n",
    "lstm_rmse = lstm_mse ** 0.5\n",
    "print('LSTM RMSE:', lstm_rmse)\n"
   ]
  },
  {
   "cell_type": "code",
   "execution_count": 137,
   "id": "efe43e4c-7856-4f41-9765-468b5a285ab5",
   "metadata": {},
   "outputs": [
    {
     "data": {
      "text/plain": [
       "0.8850804946277132"
      ]
     },
     "execution_count": 137,
     "metadata": {},
     "output_type": "execute_result"
    }
   ],
   "source": [
    "lstm_mse"
   ]
  },
  {
   "cell_type": "code",
   "execution_count": 138,
   "id": "f185b446-6f7b-4d76-bebb-fe8d5c829c4e",
   "metadata": {},
   "outputs": [
    {
     "data": {
      "text/plain": [
       "0.624128554142552"
      ]
     },
     "execution_count": 138,
     "metadata": {},
     "output_type": "execute_result"
    }
   ],
   "source": [
    "lstm_mae = mean_absolute_error(y_test_lstm, lstm_forecast)\n",
    "lstm_mae\n"
   ]
  },
  {
   "cell_type": "code",
   "execution_count": 154,
   "id": "e188cf36-ac38-4630-a5d8-be524859191e",
   "metadata": {},
   "outputs": [
    {
     "data": {
      "text/plain": [
       "0.059018098719653134"
      ]
     },
     "execution_count": 154,
     "metadata": {},
     "output_type": "execute_result"
    }
   ],
   "source": [
    "lstm_r2 = r2_score(y_test_lstm, lstm_forecast)\n",
    "lstm_r2"
   ]
  },
  {
   "cell_type": "markdown",
   "id": "322e6cea-656f-4c99-8c1e-7b7a21ec625f",
   "metadata": {},
   "source": [
    "### GRU"
   ]
  },
  {
   "cell_type": "code",
   "execution_count": 131,
   "id": "c05d93e6-87d3-4cd8-8293-1e73575c1c9b",
   "metadata": {},
   "outputs": [
    {
     "name": "stdout",
     "output_type": "stream",
     "text": [
      "Epoch 1/40\n"
     ]
    },
    {
     "name": "stderr",
     "output_type": "stream",
     "text": [
      "C:\\Users\\medan\\AppData\\Local\\Programs\\Python\\Python311\\Lib\\site-packages\\keras\\src\\layers\\rnn\\rnn.py:204: UserWarning: Do not pass an `input_shape`/`input_dim` argument to a layer. When using Sequential models, prefer using an `Input(shape)` object as the first layer in the model instead.\n",
      "  super().__init__(**kwargs)\n"
     ]
    },
    {
     "name": "stdout",
     "output_type": "stream",
     "text": [
      "\u001b[1m11232/11232\u001b[0m \u001b[32m━━━━━━━━━━━━━━━━━━━━\u001b[0m\u001b[37m\u001b[0m \u001b[1m22s\u001b[0m 2ms/step - loss: 1.0448\n",
      "Epoch 2/40\n",
      "\u001b[1m11232/11232\u001b[0m \u001b[32m━━━━━━━━━━━━━━━━━━━━\u001b[0m\u001b[37m\u001b[0m \u001b[1m21s\u001b[0m 2ms/step - loss: 0.9533\n",
      "Epoch 3/40\n",
      "\u001b[1m11232/11232\u001b[0m \u001b[32m━━━━━━━━━━━━━━━━━━━━\u001b[0m\u001b[37m\u001b[0m \u001b[1m21s\u001b[0m 2ms/step - loss: 0.9444\n",
      "Epoch 4/40\n",
      "\u001b[1m11232/11232\u001b[0m \u001b[32m━━━━━━━━━━━━━━━━━━━━\u001b[0m\u001b[37m\u001b[0m \u001b[1m21s\u001b[0m 2ms/step - loss: 0.9489\n",
      "Epoch 5/40\n",
      "\u001b[1m11232/11232\u001b[0m \u001b[32m━━━━━━━━━━━━━━━━━━━━\u001b[0m\u001b[37m\u001b[0m \u001b[1m21s\u001b[0m 2ms/step - loss: 0.9438\n",
      "Epoch 6/40\n",
      "\u001b[1m11232/11232\u001b[0m \u001b[32m━━━━━━━━━━━━━━━━━━━━\u001b[0m\u001b[37m\u001b[0m \u001b[1m21s\u001b[0m 2ms/step - loss: 0.9507\n",
      "Epoch 7/40\n",
      "\u001b[1m11232/11232\u001b[0m \u001b[32m━━━━━━━━━━━━━━━━━━━━\u001b[0m\u001b[37m\u001b[0m \u001b[1m21s\u001b[0m 2ms/step - loss: 0.9517\n",
      "Epoch 8/40\n",
      "\u001b[1m11232/11232\u001b[0m \u001b[32m━━━━━━━━━━━━━━━━━━━━\u001b[0m\u001b[37m\u001b[0m \u001b[1m21s\u001b[0m 2ms/step - loss: 0.9462\n",
      "Epoch 9/40\n",
      "\u001b[1m11232/11232\u001b[0m \u001b[32m━━━━━━━━━━━━━━━━━━━━\u001b[0m\u001b[37m\u001b[0m \u001b[1m21s\u001b[0m 2ms/step - loss: 0.9517\n",
      "Epoch 10/40\n",
      "\u001b[1m11232/11232\u001b[0m \u001b[32m━━━━━━━━━━━━━━━━━━━━\u001b[0m\u001b[37m\u001b[0m \u001b[1m21s\u001b[0m 2ms/step - loss: 0.9329\n",
      "Epoch 11/40\n",
      "\u001b[1m11232/11232\u001b[0m \u001b[32m━━━━━━━━━━━━━━━━━━━━\u001b[0m\u001b[37m\u001b[0m \u001b[1m21s\u001b[0m 2ms/step - loss: 0.9503\n",
      "Epoch 12/40\n",
      "\u001b[1m11232/11232\u001b[0m \u001b[32m━━━━━━━━━━━━━━━━━━━━\u001b[0m\u001b[37m\u001b[0m \u001b[1m21s\u001b[0m 2ms/step - loss: 0.9397\n",
      "Epoch 13/40\n",
      "\u001b[1m11232/11232\u001b[0m \u001b[32m━━━━━━━━━━━━━━━━━━━━\u001b[0m\u001b[37m\u001b[0m \u001b[1m21s\u001b[0m 2ms/step - loss: 0.9354\n",
      "Epoch 14/40\n",
      "\u001b[1m11232/11232\u001b[0m \u001b[32m━━━━━━━━━━━━━━━━━━━━\u001b[0m\u001b[37m\u001b[0m \u001b[1m21s\u001b[0m 2ms/step - loss: 0.9301\n",
      "Epoch 15/40\n",
      "\u001b[1m11232/11232\u001b[0m \u001b[32m━━━━━━━━━━━━━━━━━━━━\u001b[0m\u001b[37m\u001b[0m \u001b[1m21s\u001b[0m 2ms/step - loss: 0.9365\n",
      "Epoch 16/40\n",
      "\u001b[1m11232/11232\u001b[0m \u001b[32m━━━━━━━━━━━━━━━━━━━━\u001b[0m\u001b[37m\u001b[0m \u001b[1m21s\u001b[0m 2ms/step - loss: 0.9443\n",
      "Epoch 17/40\n",
      "\u001b[1m11232/11232\u001b[0m \u001b[32m━━━━━━━━━━━━━━━━━━━━\u001b[0m\u001b[37m\u001b[0m \u001b[1m22s\u001b[0m 2ms/step - loss: 0.9342\n",
      "Epoch 18/40\n",
      "\u001b[1m11232/11232\u001b[0m \u001b[32m━━━━━━━━━━━━━━━━━━━━\u001b[0m\u001b[37m\u001b[0m \u001b[1m22s\u001b[0m 2ms/step - loss: 0.9328\n",
      "Epoch 19/40\n",
      "\u001b[1m11232/11232\u001b[0m \u001b[32m━━━━━━━━━━━━━━━━━━━━\u001b[0m\u001b[37m\u001b[0m \u001b[1m21s\u001b[0m 2ms/step - loss: 0.9383\n",
      "Epoch 20/40\n",
      "\u001b[1m11232/11232\u001b[0m \u001b[32m━━━━━━━━━━━━━━━━━━━━\u001b[0m\u001b[37m\u001b[0m \u001b[1m22s\u001b[0m 2ms/step - loss: 0.9492\n",
      "Epoch 21/40\n",
      "\u001b[1m11232/11232\u001b[0m \u001b[32m━━━━━━━━━━━━━━━━━━━━\u001b[0m\u001b[37m\u001b[0m \u001b[1m22s\u001b[0m 2ms/step - loss: 0.9408\n",
      "Epoch 22/40\n",
      "\u001b[1m11232/11232\u001b[0m \u001b[32m━━━━━━━━━━━━━━━━━━━━\u001b[0m\u001b[37m\u001b[0m \u001b[1m21s\u001b[0m 2ms/step - loss: 0.9293\n",
      "Epoch 23/40\n",
      "\u001b[1m11232/11232\u001b[0m \u001b[32m━━━━━━━━━━━━━━━━━━━━\u001b[0m\u001b[37m\u001b[0m \u001b[1m21s\u001b[0m 2ms/step - loss: 0.9318\n",
      "Epoch 24/40\n",
      "\u001b[1m11232/11232\u001b[0m \u001b[32m━━━━━━━━━━━━━━━━━━━━\u001b[0m\u001b[37m\u001b[0m \u001b[1m21s\u001b[0m 2ms/step - loss: 0.9294\n",
      "Epoch 25/40\n",
      "\u001b[1m11232/11232\u001b[0m \u001b[32m━━━━━━━━━━━━━━━━━━━━\u001b[0m\u001b[37m\u001b[0m \u001b[1m21s\u001b[0m 2ms/step - loss: 0.9396\n",
      "Epoch 26/40\n",
      "\u001b[1m11232/11232\u001b[0m \u001b[32m━━━━━━━━━━━━━━━━━━━━\u001b[0m\u001b[37m\u001b[0m \u001b[1m22s\u001b[0m 2ms/step - loss: 0.9372\n",
      "Epoch 27/40\n",
      "\u001b[1m11232/11232\u001b[0m \u001b[32m━━━━━━━━━━━━━━━━━━━━\u001b[0m\u001b[37m\u001b[0m \u001b[1m22s\u001b[0m 2ms/step - loss: 0.9397\n",
      "Epoch 28/40\n",
      "\u001b[1m11232/11232\u001b[0m \u001b[32m━━━━━━━━━━━━━━━━━━━━\u001b[0m\u001b[37m\u001b[0m \u001b[1m21s\u001b[0m 2ms/step - loss: 0.9348\n",
      "Epoch 29/40\n",
      "\u001b[1m11232/11232\u001b[0m \u001b[32m━━━━━━━━━━━━━━━━━━━━\u001b[0m\u001b[37m\u001b[0m \u001b[1m21s\u001b[0m 2ms/step - loss: 0.9441\n",
      "Epoch 30/40\n",
      "\u001b[1m11232/11232\u001b[0m \u001b[32m━━━━━━━━━━━━━━━━━━━━\u001b[0m\u001b[37m\u001b[0m \u001b[1m22s\u001b[0m 2ms/step - loss: 0.9577\n",
      "Epoch 31/40\n",
      "\u001b[1m11232/11232\u001b[0m \u001b[32m━━━━━━━━━━━━━━━━━━━━\u001b[0m\u001b[37m\u001b[0m \u001b[1m23s\u001b[0m 2ms/step - loss: 0.9432\n",
      "Epoch 32/40\n",
      "\u001b[1m11232/11232\u001b[0m \u001b[32m━━━━━━━━━━━━━━━━━━━━\u001b[0m\u001b[37m\u001b[0m \u001b[1m22s\u001b[0m 2ms/step - loss: 0.9454\n",
      "Epoch 33/40\n",
      "\u001b[1m11232/11232\u001b[0m \u001b[32m━━━━━━━━━━━━━━━━━━━━\u001b[0m\u001b[37m\u001b[0m \u001b[1m22s\u001b[0m 2ms/step - loss: 0.9321\n",
      "Epoch 34/40\n",
      "\u001b[1m11232/11232\u001b[0m \u001b[32m━━━━━━━━━━━━━━━━━━━━\u001b[0m\u001b[37m\u001b[0m \u001b[1m22s\u001b[0m 2ms/step - loss: 0.9484\n",
      "Epoch 35/40\n",
      "\u001b[1m11232/11232\u001b[0m \u001b[32m━━━━━━━━━━━━━━━━━━━━\u001b[0m\u001b[37m\u001b[0m \u001b[1m22s\u001b[0m 2ms/step - loss: 0.9479\n",
      "Epoch 36/40\n",
      "\u001b[1m11232/11232\u001b[0m \u001b[32m━━━━━━━━━━━━━━━━━━━━\u001b[0m\u001b[37m\u001b[0m \u001b[1m22s\u001b[0m 2ms/step - loss: 0.9719\n",
      "Epoch 37/40\n",
      "\u001b[1m11232/11232\u001b[0m \u001b[32m━━━━━━━━━━━━━━━━━━━━\u001b[0m\u001b[37m\u001b[0m \u001b[1m22s\u001b[0m 2ms/step - loss: 0.9201\n",
      "Epoch 38/40\n",
      "\u001b[1m11232/11232\u001b[0m \u001b[32m━━━━━━━━━━━━━━━━━━━━\u001b[0m\u001b[37m\u001b[0m \u001b[1m22s\u001b[0m 2ms/step - loss: 0.9395\n",
      "Epoch 39/40\n",
      "\u001b[1m11232/11232\u001b[0m \u001b[32m━━━━━━━━━━━━━━━━━━━━\u001b[0m\u001b[37m\u001b[0m \u001b[1m22s\u001b[0m 2ms/step - loss: 0.9353\n",
      "Epoch 40/40\n",
      "\u001b[1m11232/11232\u001b[0m \u001b[32m━━━━━━━━━━━━━━━━━━━━\u001b[0m\u001b[37m\u001b[0m \u001b[1m22s\u001b[0m 2ms/step - loss: 0.9318\n",
      "\u001b[1m2034/2034\u001b[0m \u001b[32m━━━━━━━━━━━━━━━━━━━━\u001b[0m\u001b[37m\u001b[0m \u001b[1m2s\u001b[0m 935us/step\n",
      "GRU RMSE: 0.9447935187085549\n"
     ]
    }
   ],
   "source": [
    "from tensorflow.keras.layers import GRU\n",
    "\n",
    "# Define the GRU model\n",
    "gru_model = Sequential()\n",
    "gru_model.add(GRU(50, activation='relu', input_shape=(time_steps, X_train_lstm.shape[2])))\n",
    "gru_model.add(Dense(1))\n",
    "gru_model.compile(optimizer='adam', loss='mse')\n",
    "\n",
    "# Fit the GRU model\n",
    "gru_model.fit(X_train_lstm, y_train_lstm, epochs=40, batch_size=32, verbose=1)\n",
    "\n",
    "# Make predictions\n",
    "gru_forecast = gru_model.predict(X_test_lstm)\n",
    "\n",
    "# Evaluate the GRU model\n",
    "gru_mse = mean_squared_error(y_test_lstm, gru_forecast)\n",
    "gru_rmse = gru_mse ** 0.5\n",
    "print('GRU RMSE:', gru_rmse)\n"
   ]
  },
  {
   "cell_type": "code",
   "execution_count": 135,
   "id": "aaff1c3f-eb3a-4d22-986c-56c9feff08e3",
   "metadata": {},
   "outputs": [
    {
     "data": {
      "text/plain": [
       "0.8926347929936924"
      ]
     },
     "execution_count": 135,
     "metadata": {},
     "output_type": "execute_result"
    }
   ],
   "source": [
    "gru_mse"
   ]
  },
  {
   "cell_type": "code",
   "execution_count": 136,
   "id": "40b6cbcb-289c-4f0b-8f0d-f21e9f515cb2",
   "metadata": {},
   "outputs": [
    {
     "data": {
      "text/plain": [
       "0.662803268492518"
      ]
     },
     "execution_count": 136,
     "metadata": {},
     "output_type": "execute_result"
    }
   ],
   "source": [
    "gru_mae = mean_absolute_error(y_test_lstm, gru_forecast)\n",
    "gru_mae"
   ]
  },
  {
   "cell_type": "code",
   "execution_count": 157,
   "id": "f5e963dd-8cbf-4234-b568-caa0fe91623b",
   "metadata": {},
   "outputs": [
    {
     "data": {
      "text/plain": [
       "0.05098667323642836"
      ]
     },
     "execution_count": 157,
     "metadata": {},
     "output_type": "execute_result"
    }
   ],
   "source": [
    "gru_r2 = r2_score(y_test_lstm, gru_forecast)\n",
    "gru_r2"
   ]
  },
  {
   "cell_type": "markdown",
   "id": "60e8416c-a452-4655-ab81-56f10a69b8c3",
   "metadata": {},
   "source": [
    "### TCN"
   ]
  },
  {
   "cell_type": "code",
   "execution_count": 132,
   "id": "c027f48e-d313-4cc1-9ed9-98bb2ea6d197",
   "metadata": {},
   "outputs": [
    {
     "name": "stdout",
     "output_type": "stream",
     "text": [
      "Epoch 1/40\n",
      "\u001b[1m11232/11232\u001b[0m \u001b[32m━━━━━━━━━━━━━━━━━━━━\u001b[0m\u001b[37m\u001b[0m \u001b[1m19s\u001b[0m 1ms/step - loss: 8.5191\n",
      "Epoch 2/40\n",
      "\u001b[1m11232/11232\u001b[0m \u001b[32m━━━━━━━━━━━━━━━━━━━━\u001b[0m\u001b[37m\u001b[0m \u001b[1m16s\u001b[0m 1ms/step - loss: 1.0198\n",
      "Epoch 3/40\n",
      "\u001b[1m11232/11232\u001b[0m \u001b[32m━━━━━━━━━━━━━━━━━━━━\u001b[0m\u001b[37m\u001b[0m \u001b[1m16s\u001b[0m 1ms/step - loss: 0.9823\n",
      "Epoch 4/40\n",
      "\u001b[1m11232/11232\u001b[0m \u001b[32m━━━━━━━━━━━━━━━━━━━━\u001b[0m\u001b[37m\u001b[0m \u001b[1m16s\u001b[0m 1ms/step - loss: 0.9793\n",
      "Epoch 5/40\n",
      "\u001b[1m11232/11232\u001b[0m \u001b[32m━━━━━━━━━━━━━━━━━━━━\u001b[0m\u001b[37m\u001b[0m \u001b[1m16s\u001b[0m 1ms/step - loss: 0.9776\n",
      "Epoch 6/40\n",
      "\u001b[1m11232/11232\u001b[0m \u001b[32m━━━━━━━━━━━━━━━━━━━━\u001b[0m\u001b[37m\u001b[0m \u001b[1m17s\u001b[0m 1ms/step - loss: 0.9637\n",
      "Epoch 7/40\n",
      "\u001b[1m11232/11232\u001b[0m \u001b[32m━━━━━━━━━━━━━━━━━━━━\u001b[0m\u001b[37m\u001b[0m \u001b[1m17s\u001b[0m 1ms/step - loss: 0.9670\n",
      "Epoch 8/40\n",
      "\u001b[1m11232/11232\u001b[0m \u001b[32m━━━━━━━━━━━━━━━━━━━━\u001b[0m\u001b[37m\u001b[0m \u001b[1m16s\u001b[0m 1ms/step - loss: 0.9705\n",
      "Epoch 9/40\n",
      "\u001b[1m11232/11232\u001b[0m \u001b[32m━━━━━━━━━━━━━━━━━━━━\u001b[0m\u001b[37m\u001b[0m \u001b[1m16s\u001b[0m 1ms/step - loss: 0.9675\n",
      "Epoch 10/40\n",
      "\u001b[1m11232/11232\u001b[0m \u001b[32m━━━━━━━━━━━━━━━━━━━━\u001b[0m\u001b[37m\u001b[0m \u001b[1m16s\u001b[0m 1ms/step - loss: 0.9586\n",
      "Epoch 11/40\n",
      "\u001b[1m11232/11232\u001b[0m \u001b[32m━━━━━━━━━━━━━━━━━━━━\u001b[0m\u001b[37m\u001b[0m \u001b[1m16s\u001b[0m 1ms/step - loss: 0.9518\n",
      "Epoch 12/40\n",
      "\u001b[1m11232/11232\u001b[0m \u001b[32m━━━━━━━━━━━━━━━━━━━━\u001b[0m\u001b[37m\u001b[0m \u001b[1m16s\u001b[0m 1ms/step - loss: 0.9517\n",
      "Epoch 13/40\n",
      "\u001b[1m11232/11232\u001b[0m \u001b[32m━━━━━━━━━━━━━━━━━━━━\u001b[0m\u001b[37m\u001b[0m \u001b[1m16s\u001b[0m 1ms/step - loss: 0.9549\n",
      "Epoch 14/40\n",
      "\u001b[1m11232/11232\u001b[0m \u001b[32m━━━━━━━━━━━━━━━━━━━━\u001b[0m\u001b[37m\u001b[0m \u001b[1m16s\u001b[0m 1ms/step - loss: 0.9561\n",
      "Epoch 15/40\n",
      "\u001b[1m11232/11232\u001b[0m \u001b[32m━━━━━━━━━━━━━━━━━━━━\u001b[0m\u001b[37m\u001b[0m \u001b[1m16s\u001b[0m 1ms/step - loss: 0.9665\n",
      "Epoch 16/40\n",
      "\u001b[1m11232/11232\u001b[0m \u001b[32m━━━━━━━━━━━━━━━━━━━━\u001b[0m\u001b[37m\u001b[0m \u001b[1m15s\u001b[0m 1ms/step - loss: 0.9632\n",
      "Epoch 17/40\n",
      "\u001b[1m11232/11232\u001b[0m \u001b[32m━━━━━━━━━━━━━━━━━━━━\u001b[0m\u001b[37m\u001b[0m \u001b[1m16s\u001b[0m 1ms/step - loss: 0.9508\n",
      "Epoch 18/40\n",
      "\u001b[1m11232/11232\u001b[0m \u001b[32m━━━━━━━━━━━━━━━━━━━━\u001b[0m\u001b[37m\u001b[0m \u001b[1m16s\u001b[0m 1ms/step - loss: 0.9732\n",
      "Epoch 19/40\n",
      "\u001b[1m11232/11232\u001b[0m \u001b[32m━━━━━━━━━━━━━━━━━━━━\u001b[0m\u001b[37m\u001b[0m \u001b[1m16s\u001b[0m 1ms/step - loss: 0.9597\n",
      "Epoch 20/40\n",
      "\u001b[1m11232/11232\u001b[0m \u001b[32m━━━━━━━━━━━━━━━━━━━━\u001b[0m\u001b[37m\u001b[0m \u001b[1m16s\u001b[0m 1ms/step - loss: 0.9486\n",
      "Epoch 21/40\n",
      "\u001b[1m11232/11232\u001b[0m \u001b[32m━━━━━━━━━━━━━━━━━━━━\u001b[0m\u001b[37m\u001b[0m \u001b[1m16s\u001b[0m 1ms/step - loss: 0.9566\n",
      "Epoch 22/40\n",
      "\u001b[1m11232/11232\u001b[0m \u001b[32m━━━━━━━━━━━━━━━━━━━━\u001b[0m\u001b[37m\u001b[0m \u001b[1m16s\u001b[0m 1ms/step - loss: 0.9690\n",
      "Epoch 23/40\n",
      "\u001b[1m11232/11232\u001b[0m \u001b[32m━━━━━━━━━━━━━━━━━━━━\u001b[0m\u001b[37m\u001b[0m \u001b[1m16s\u001b[0m 1ms/step - loss: 0.9556\n",
      "Epoch 24/40\n",
      "\u001b[1m11232/11232\u001b[0m \u001b[32m━━━━━━━━━━━━━━━━━━━━\u001b[0m\u001b[37m\u001b[0m \u001b[1m16s\u001b[0m 1ms/step - loss: 0.9604\n",
      "Epoch 25/40\n",
      "\u001b[1m11232/11232\u001b[0m \u001b[32m━━━━━━━━━━━━━━━━━━━━\u001b[0m\u001b[37m\u001b[0m \u001b[1m16s\u001b[0m 1ms/step - loss: 0.9574\n",
      "Epoch 26/40\n",
      "\u001b[1m11232/11232\u001b[0m \u001b[32m━━━━━━━━━━━━━━━━━━━━\u001b[0m\u001b[37m\u001b[0m \u001b[1m16s\u001b[0m 1ms/step - loss: 0.9515\n",
      "Epoch 27/40\n",
      "\u001b[1m11232/11232\u001b[0m \u001b[32m━━━━━━━━━━━━━━━━━━━━\u001b[0m\u001b[37m\u001b[0m \u001b[1m16s\u001b[0m 1ms/step - loss: 0.9545\n",
      "Epoch 28/40\n",
      "\u001b[1m11232/11232\u001b[0m \u001b[32m━━━━━━━━━━━━━━━━━━━━\u001b[0m\u001b[37m\u001b[0m \u001b[1m16s\u001b[0m 1ms/step - loss: 0.9640\n",
      "Epoch 29/40\n",
      "\u001b[1m11232/11232\u001b[0m \u001b[32m━━━━━━━━━━━━━━━━━━━━\u001b[0m\u001b[37m\u001b[0m \u001b[1m16s\u001b[0m 1ms/step - loss: 0.9767\n",
      "Epoch 30/40\n",
      "\u001b[1m11232/11232\u001b[0m \u001b[32m━━━━━━━━━━━━━━━━━━━━\u001b[0m\u001b[37m\u001b[0m \u001b[1m16s\u001b[0m 1ms/step - loss: 0.9605\n",
      "Epoch 31/40\n",
      "\u001b[1m11232/11232\u001b[0m \u001b[32m━━━━━━━━━━━━━━━━━━━━\u001b[0m\u001b[37m\u001b[0m \u001b[1m16s\u001b[0m 1ms/step - loss: 0.9597\n",
      "Epoch 32/40\n",
      "\u001b[1m11232/11232\u001b[0m \u001b[32m━━━━━━━━━━━━━━━━━━━━\u001b[0m\u001b[37m\u001b[0m \u001b[1m16s\u001b[0m 1ms/step - loss: 0.9649\n",
      "Epoch 33/40\n",
      "\u001b[1m11232/11232\u001b[0m \u001b[32m━━━━━━━━━━━━━━━━━━━━\u001b[0m\u001b[37m\u001b[0m \u001b[1m16s\u001b[0m 1ms/step - loss: 0.9567\n",
      "Epoch 34/40\n",
      "\u001b[1m11232/11232\u001b[0m \u001b[32m━━━━━━━━━━━━━━━━━━━━\u001b[0m\u001b[37m\u001b[0m \u001b[1m16s\u001b[0m 1ms/step - loss: 0.9627\n",
      "Epoch 35/40\n",
      "\u001b[1m11232/11232\u001b[0m \u001b[32m━━━━━━━━━━━━━━━━━━━━\u001b[0m\u001b[37m\u001b[0m \u001b[1m16s\u001b[0m 1ms/step - loss: 0.9592\n",
      "Epoch 36/40\n",
      "\u001b[1m11232/11232\u001b[0m \u001b[32m━━━━━━━━━━━━━━━━━━━━\u001b[0m\u001b[37m\u001b[0m \u001b[1m16s\u001b[0m 1ms/step - loss: 0.9433\n",
      "Epoch 37/40\n",
      "\u001b[1m11232/11232\u001b[0m \u001b[32m━━━━━━━━━━━━━━━━━━━━\u001b[0m\u001b[37m\u001b[0m \u001b[1m16s\u001b[0m 1ms/step - loss: 0.9551\n",
      "Epoch 38/40\n",
      "\u001b[1m11232/11232\u001b[0m \u001b[32m━━━━━━━━━━━━━━━━━━━━\u001b[0m\u001b[37m\u001b[0m \u001b[1m16s\u001b[0m 1ms/step - loss: 0.9434\n",
      "Epoch 39/40\n",
      "\u001b[1m11232/11232\u001b[0m \u001b[32m━━━━━━━━━━━━━━━━━━━━\u001b[0m\u001b[37m\u001b[0m \u001b[1m16s\u001b[0m 1ms/step - loss: 0.9420\n",
      "Epoch 40/40\n",
      "\u001b[1m11232/11232\u001b[0m \u001b[32m━━━━━━━━━━━━━━━━━━━━\u001b[0m\u001b[37m\u001b[0m \u001b[1m16s\u001b[0m 1ms/step - loss: 0.9535\n",
      "\u001b[1m2034/2034\u001b[0m \u001b[32m━━━━━━━━━━━━━━━━━━━━\u001b[0m\u001b[37m\u001b[0m \u001b[1m2s\u001b[0m 842us/step\n",
      "TCN RMSE: 0.9454977962345831\n"
     ]
    }
   ],
   "source": [
    "from tensorflow.keras.layers import Input, Conv1D, Dense, Flatten, Add, Activation\n",
    "from tensorflow.keras.models import Model\n",
    "\n",
    "def TCN_block(x, filters, kernel_size, dilation_rate):\n",
    "    conv1 = Conv1D(filters, kernel_size, dilation_rate=dilation_rate, padding='causal')(x)\n",
    "    conv1 = Activation('relu')(conv1)\n",
    "    conv2 = Conv1D(filters, kernel_size, dilation_rate=dilation_rate, padding='causal')(conv1)\n",
    "    skip = Add()([x, conv2])\n",
    "    return skip\n",
    "\n",
    "input_layer = Input(shape=(time_steps, X_train_lstm.shape[2]))\n",
    "x = TCN_block(input_layer, 15, 3, 1)\n",
    "x = TCN_block(x, 15, 3, 2)\n",
    "x = Flatten()(x)\n",
    "output_layer = Dense(1)(x)\n",
    "\n",
    "tcn_model = Model(input_layer, output_layer)\n",
    "tcn_model.compile(optimizer='adam', loss='mse')\n",
    "\n",
    "# Fit the TCN model\n",
    "tcn_model.fit(X_train_lstm, y_train_lstm, epochs=40, batch_size=32, verbose=1)\n",
    "\n",
    "# Make predictions\n",
    "tcn_forecast = tcn_model.predict(X_test_lstm)\n",
    "\n",
    "# Evaluate the TCN model\n",
    "tcn_mse = mean_squared_error(y_test_lstm, tcn_forecast)\n",
    "tcn_rmse = tcn_mse ** 0.5\n",
    "print('TCN RMSE:', tcn_rmse)\n"
   ]
  },
  {
   "cell_type": "code",
   "execution_count": 133,
   "id": "c4b3f27c-29ec-4de6-b6a7-19170d27a128",
   "metadata": {},
   "outputs": [
    {
     "data": {
      "text/plain": [
       "0.8939660826844532"
      ]
     },
     "execution_count": 133,
     "metadata": {},
     "output_type": "execute_result"
    }
   ],
   "source": [
    "tcn_mse"
   ]
  },
  {
   "cell_type": "code",
   "execution_count": 134,
   "id": "45615f6e-c6f7-4fd0-8143-65d107dde754",
   "metadata": {},
   "outputs": [
    {
     "data": {
      "text/plain": [
       "0.6624900125966953"
      ]
     },
     "execution_count": 134,
     "metadata": {},
     "output_type": "execute_result"
    }
   ],
   "source": [
    "tcn_mae = mean_absolute_error(y_test_lstm, tcn_forecast)\n",
    "tcn_mae"
   ]
  },
  {
   "cell_type": "code",
   "execution_count": 160,
   "id": "a761fbd5-877a-40e8-969c-163a9c3e3cae",
   "metadata": {},
   "outputs": [
    {
     "data": {
      "text/plain": [
       "0.049571299706031025"
      ]
     },
     "execution_count": 160,
     "metadata": {},
     "output_type": "execute_result"
    }
   ],
   "source": [
    "tcn_r2 = r2_score(y_test_lstm, tcn_forecast)\n",
    "tcn_r2"
   ]
  },
  {
   "cell_type": "code",
   "execution_count": null,
   "id": "eea6af15-0999-4e21-9f2b-b36c3b43c75c",
   "metadata": {},
   "outputs": [],
   "source": []
  },
  {
   "cell_type": "code",
   "execution_count": null,
   "id": "d155a011-9268-4030-a1df-ac68f5c0d3ca",
   "metadata": {},
   "outputs": [],
   "source": []
  }
 ],
 "metadata": {
  "kernelspec": {
   "display_name": "Python 3 (ipykernel)",
   "language": "python",
   "name": "python3"
  },
  "language_info": {
   "codemirror_mode": {
    "name": "ipython",
    "version": 3
   },
   "file_extension": ".py",
   "mimetype": "text/x-python",
   "name": "python",
   "nbconvert_exporter": "python",
   "pygments_lexer": "ipython3",
   "version": "3.11.5"
  }
 },
 "nbformat": 4,
 "nbformat_minor": 5
}
